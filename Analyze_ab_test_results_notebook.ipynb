{
 "cells": [
  {
   "cell_type": "markdown",
   "metadata": {},
   "source": [
    "# Analyze A/B Test Results \n",
    "\n",
    "This project will assure you have mastered the subjects covered in the statistics lessons. We have organized the current notebook into the following sections: \n",
    "\n",
    "- [Introduction](#intro)\n",
    "- [Part I - Probability](#probability)\n",
    "- [Part II - A/B Test](#ab_test)\n",
    "- [Part III - Regression](#regression)\n",
    "- [Final Check](#finalcheck)\n",
    "- [Submission](#submission)\n",
    "\n",
    "Specific programming tasks are marked with a **ToDo** tag. \n",
    "\n",
    "<a id='intro'></a>\n",
    "## Introduction\n",
    "\n",
    "A/B tests are very commonly performed by data analysts and data scientists. For this project, you will be working to understand the results of an A/B test run by an e-commerce website.  Your goal is to work through this notebook to help the company understand if they should:\n",
    "- Implement the new webpage, \n",
    "- Keep the old webpage, or \n",
    "- Perhaps run the experiment longer to make their decision.\n",
    "\n",
    "Each **ToDo** task below has an associated quiz present in the classroom.  Though the classroom quizzes are **not necessary** to complete the project, they help ensure you are on the right track as you work through the project, and you can feel more confident in your final submission meeting the [rubric](https://review.udacity.com/#!/rubrics/1214/view) specification. \n",
    "\n",
    ">**Tip**: Though it's not a mandate, students can attempt the classroom quizzes to ensure statistical numeric values are calculated correctly in many cases.\n",
    "\n",
    "<a id='probability'></a>\n",
    "## Part I - Probability\n",
    "\n",
    "To get started, let's import our libraries."
   ]
  },
  {
   "cell_type": "code",
   "execution_count": 1,
   "metadata": {},
   "outputs": [],
   "source": [
    "import pandas as pd\n",
    "import numpy as np\n",
    "import random\n",
    "import matplotlib.pyplot as plt\n",
    "%matplotlib inline\n",
    "#We are setting the seed to assure you get the same answers on quizzes as we set up\n",
    "random.seed(42)"
   ]
  },
  {
   "cell_type": "markdown",
   "metadata": {},
   "source": [
    "### ToDo 1.1\n",
    "Now, read in the `ab_data.csv` data. Store it in `df`. Below is the description of the data, there are a total of 5 columns:\n",
    "\n",
    "<center>\n",
    "\n",
    "|Data columns|Purpose|Valid values|\n",
    "| ------------- |:-------------| -----:|\n",
    "|user_id|Unique ID|Int64 values|\n",
    "|timestamp|Time stamp when the user visited the webpage|-|\n",
    "|group|In the current A/B experiment, the users are categorized into two broad groups. <br>The `control` group users are expected to be served with `old_page`; and `treatment` group users are matched with the `new_page`. <br>However, **some inaccurate rows** are present in the initial data, such as a `control` group user is matched with a `new_page`. |`['control', 'treatment']`|\n",
    "|landing_page|It denotes whether the user visited the old or new webpage.|`['old_page', 'new_page']`|\n",
    "|converted|It denotes whether the user decided to pay for the company's product. Here, `1` means yes, the user bought the product.|`[0, 1]`|\n",
    "</center>\n",
    "Use your dataframe to answer the questions in Quiz 1 of the classroom.\n",
    "\n",
    "\n",
    ">**Tip**: Please save your work regularly.\n",
    "\n",
    "**a.** Read in the dataset from the `ab_data.csv` file and take a look at the top few rows here:"
   ]
  },
  {
   "cell_type": "code",
   "execution_count": 2,
   "metadata": {},
   "outputs": [
    {
     "data": {
      "text/html": [
       "<div>\n",
       "<style scoped>\n",
       "    .dataframe tbody tr th:only-of-type {\n",
       "        vertical-align: middle;\n",
       "    }\n",
       "\n",
       "    .dataframe tbody tr th {\n",
       "        vertical-align: top;\n",
       "    }\n",
       "\n",
       "    .dataframe thead th {\n",
       "        text-align: right;\n",
       "    }\n",
       "</style>\n",
       "<table border=\"1\" class=\"dataframe\">\n",
       "  <thead>\n",
       "    <tr style=\"text-align: right;\">\n",
       "      <th></th>\n",
       "      <th>user_id</th>\n",
       "      <th>timestamp</th>\n",
       "      <th>group</th>\n",
       "      <th>landing_page</th>\n",
       "      <th>converted</th>\n",
       "    </tr>\n",
       "  </thead>\n",
       "  <tbody>\n",
       "    <tr>\n",
       "      <th>0</th>\n",
       "      <td>851104</td>\n",
       "      <td>2017-01-21 22:11:48.556739</td>\n",
       "      <td>control</td>\n",
       "      <td>old_page</td>\n",
       "      <td>0</td>\n",
       "    </tr>\n",
       "    <tr>\n",
       "      <th>1</th>\n",
       "      <td>804228</td>\n",
       "      <td>2017-01-12 08:01:45.159739</td>\n",
       "      <td>control</td>\n",
       "      <td>old_page</td>\n",
       "      <td>0</td>\n",
       "    </tr>\n",
       "    <tr>\n",
       "      <th>2</th>\n",
       "      <td>661590</td>\n",
       "      <td>2017-01-11 16:55:06.154213</td>\n",
       "      <td>treatment</td>\n",
       "      <td>new_page</td>\n",
       "      <td>0</td>\n",
       "    </tr>\n",
       "    <tr>\n",
       "      <th>3</th>\n",
       "      <td>853541</td>\n",
       "      <td>2017-01-08 18:28:03.143765</td>\n",
       "      <td>treatment</td>\n",
       "      <td>new_page</td>\n",
       "      <td>0</td>\n",
       "    </tr>\n",
       "    <tr>\n",
       "      <th>4</th>\n",
       "      <td>864975</td>\n",
       "      <td>2017-01-21 01:52:26.210827</td>\n",
       "      <td>control</td>\n",
       "      <td>old_page</td>\n",
       "      <td>1</td>\n",
       "    </tr>\n",
       "  </tbody>\n",
       "</table>\n",
       "</div>"
      ],
      "text/plain": [
       "   user_id                   timestamp      group landing_page  converted\n",
       "0   851104  2017-01-21 22:11:48.556739    control     old_page          0\n",
       "1   804228  2017-01-12 08:01:45.159739    control     old_page          0\n",
       "2   661590  2017-01-11 16:55:06.154213  treatment     new_page          0\n",
       "3   853541  2017-01-08 18:28:03.143765  treatment     new_page          0\n",
       "4   864975  2017-01-21 01:52:26.210827    control     old_page          1"
      ]
     },
     "execution_count": 2,
     "metadata": {},
     "output_type": "execute_result"
    }
   ],
   "source": [
    "df = pd.read_csv('ab_data.csv')\n",
    "df.head()"
   ]
  },
  {
   "cell_type": "markdown",
   "metadata": {},
   "source": [
    "**b.** Use the cell below to find the number of rows in the dataset."
   ]
  },
  {
   "cell_type": "code",
   "execution_count": 3,
   "metadata": {},
   "outputs": [
    {
     "data": {
      "text/plain": [
       "294478"
      ]
     },
     "execution_count": 3,
     "metadata": {},
     "output_type": "execute_result"
    }
   ],
   "source": [
    "df.user_id.count()"
   ]
  },
  {
   "cell_type": "markdown",
   "metadata": {},
   "source": [
    "**c.** The number of unique users in the dataset."
   ]
  },
  {
   "cell_type": "code",
   "execution_count": 4,
   "metadata": {},
   "outputs": [
    {
     "data": {
      "text/plain": [
       "290584"
      ]
     },
     "execution_count": 4,
     "metadata": {},
     "output_type": "execute_result"
    }
   ],
   "source": [
    "df.user_id.nunique()"
   ]
  },
  {
   "cell_type": "markdown",
   "metadata": {
    "collapsed": true
   },
   "source": [
    "**d.** The proportion of users converted."
   ]
  },
  {
   "cell_type": "code",
   "execution_count": 5,
   "metadata": {},
   "outputs": [
    {
     "data": {
      "text/plain": [
       "0.12126269856564711"
      ]
     },
     "execution_count": 5,
     "metadata": {},
     "output_type": "execute_result"
    }
   ],
   "source": [
    "df.converted.sum()/df.user_id.nunique()"
   ]
  },
  {
   "cell_type": "markdown",
   "metadata": {
    "collapsed": true
   },
   "source": [
    "**e.** The number of times when the \"group\" is `treatment` but \"landing_page\" is not a `new_page`."
   ]
  },
  {
   "cell_type": "code",
   "execution_count": 6,
   "metadata": {},
   "outputs": [
    {
     "name": "stdout",
     "output_type": "stream",
     "text": [
      "3893\n"
     ]
    },
    {
     "name": "stderr",
     "output_type": "stream",
     "text": [
      "/opt/conda/lib/python3.6/site-packages/ipykernel_launcher.py:3: UserWarning: Boolean Series key will be reindexed to match DataFrame index.\n",
      "  This is separate from the ipykernel package so we can avoid doing imports until\n",
      "/opt/conda/lib/python3.6/site-packages/ipykernel_launcher.py:4: UserWarning: Boolean Series key will be reindexed to match DataFrame index.\n",
      "  after removing the cwd from sys.path.\n"
     ]
    }
   ],
   "source": [
    "df_treat = df[df['group'] == 'treatment' ]\n",
    "df_cont = df[df['group'] == 'control' ]\n",
    "df_false1 = df_treat[df['landing_page'] != 'new_page']\n",
    "df_false2 = df_cont[df['landing_page'] == 'new_page']\n",
    "print(df_false1.user_id.count() + df_false2.user_id.count())"
   ]
  },
  {
   "cell_type": "markdown",
   "metadata": {},
   "source": [
    "**f.** Do any of the rows have missing values?"
   ]
  },
  {
   "cell_type": "code",
   "execution_count": 7,
   "metadata": {},
   "outputs": [
    {
     "name": "stdout",
     "output_type": "stream",
     "text": [
      "<class 'pandas.core.frame.DataFrame'>\n",
      "RangeIndex: 294478 entries, 0 to 294477\n",
      "Data columns (total 5 columns):\n",
      "user_id         294478 non-null int64\n",
      "timestamp       294478 non-null object\n",
      "group           294478 non-null object\n",
      "landing_page    294478 non-null object\n",
      "converted       294478 non-null int64\n",
      "dtypes: int64(2), object(3)\n",
      "memory usage: 11.2+ MB\n"
     ]
    }
   ],
   "source": [
    "df.info()"
   ]
  },
  {
   "cell_type": "markdown",
   "metadata": {},
   "source": [
    "### ToDo 1.2  \n",
    "In a particular row, the **group** and **landing_page** columns should have either of the following acceptable values:\n",
    "\n",
    "|user_id| timestamp|group|landing_page|converted|\n",
    "|---|---|---|---|---|\n",
    "|XXXX|XXXX|`control`| `old_page`|X |\n",
    "|XXXX|XXXX|`treatment`|`new_page`|X |\n",
    "\n",
    "\n",
    "It means, the `control` group users should match with `old_page`; and `treatment` group users should matched with the `new_page`. \n",
    "\n",
    "However, for the rows where `treatment` does not match with `new_page` or `control` does not match with `old_page`, we cannot be sure if such rows truly received the new or old wepage.  \n",
    "\n",
    "\n",
    "Use **Quiz 2** in the classroom to figure out how should we handle the rows where the group and landing_page columns don't match?\n",
    "\n",
    "**a.** Now use the answer to the quiz to create a new dataset that meets the specifications from the quiz.  Store your new dataframe in **df2**."
   ]
  },
  {
   "cell_type": "code",
   "execution_count": 8,
   "metadata": {},
   "outputs": [],
   "source": [
    "# Remove the inaccurate rows, and store the result in a new dataframe df2\n",
    "#the false dataframes were concatenated to the original dataframe and then dropping the duplicates. this results in eliminating all false rows\n",
    "# a hint for the syntax was taken from stackoverflow https://stackoverflow.com/questions/37313691/how-to-remove-a-pandas-dataframe-from-another-dataframe\n",
    "df2 = pd.concat([df, df_false1, df_false2]).drop_duplicates(keep=False)"
   ]
  },
  {
   "cell_type": "code",
   "execution_count": 9,
   "metadata": {},
   "outputs": [
    {
     "data": {
      "text/plain": [
       "0"
      ]
     },
     "execution_count": 9,
     "metadata": {},
     "output_type": "execute_result"
    }
   ],
   "source": [
    "# Double Check all of the incorrect rows were removed from df2 - \n",
    "# Output of the statement below should be 0\n",
    "df2[((df2['group'] == 'treatment') == (df2['landing_page'] == 'new_page')) == False].shape[0]"
   ]
  },
  {
   "cell_type": "markdown",
   "metadata": {},
   "source": [
    "### ToDo 1.3  \n",
    "Use **df2** and the cells below to answer questions for **Quiz 3** in the classroom."
   ]
  },
  {
   "cell_type": "markdown",
   "metadata": {},
   "source": [
    "**a.** How many unique **user_id**s are in **df2**?"
   ]
  },
  {
   "cell_type": "code",
   "execution_count": 10,
   "metadata": {},
   "outputs": [
    {
     "data": {
      "text/plain": [
       "290584"
      ]
     },
     "execution_count": 10,
     "metadata": {},
     "output_type": "execute_result"
    }
   ],
   "source": [
    "df2.user_id.nunique()"
   ]
  },
  {
   "cell_type": "markdown",
   "metadata": {
    "collapsed": true
   },
   "source": [
    "**b.** There is one **user_id** repeated in **df2**.  What is it?"
   ]
  },
  {
   "cell_type": "code",
   "execution_count": 11,
   "metadata": {},
   "outputs": [
    {
     "data": {
      "text/html": [
       "<div>\n",
       "<style scoped>\n",
       "    .dataframe tbody tr th:only-of-type {\n",
       "        vertical-align: middle;\n",
       "    }\n",
       "\n",
       "    .dataframe tbody tr th {\n",
       "        vertical-align: top;\n",
       "    }\n",
       "\n",
       "    .dataframe thead th {\n",
       "        text-align: right;\n",
       "    }\n",
       "</style>\n",
       "<table border=\"1\" class=\"dataframe\">\n",
       "  <thead>\n",
       "    <tr style=\"text-align: right;\">\n",
       "      <th></th>\n",
       "      <th>user_id</th>\n",
       "      <th>timestamp</th>\n",
       "      <th>group</th>\n",
       "      <th>landing_page</th>\n",
       "      <th>converted</th>\n",
       "    </tr>\n",
       "  </thead>\n",
       "  <tbody>\n",
       "    <tr>\n",
       "      <th>2893</th>\n",
       "      <td>773192</td>\n",
       "      <td>2017-01-14 02:55:59.590927</td>\n",
       "      <td>treatment</td>\n",
       "      <td>new_page</td>\n",
       "      <td>0</td>\n",
       "    </tr>\n",
       "  </tbody>\n",
       "</table>\n",
       "</div>"
      ],
      "text/plain": [
       "      user_id                   timestamp      group landing_page  converted\n",
       "2893   773192  2017-01-14 02:55:59.590927  treatment     new_page          0"
      ]
     },
     "execution_count": 11,
     "metadata": {},
     "output_type": "execute_result"
    }
   ],
   "source": [
    "#Here we will check the duplicate row and assign it to variable dup\n",
    "dup = df2[df2.user_id.duplicated()]\n",
    "df2[df2.user_id.duplicated()]"
   ]
  },
  {
   "cell_type": "markdown",
   "metadata": {},
   "source": [
    "**c.** Display the rows for the duplicate **user_id**? "
   ]
  },
  {
   "cell_type": "code",
   "execution_count": 12,
   "metadata": {},
   "outputs": [
    {
     "data": {
      "text/html": [
       "<div>\n",
       "<style scoped>\n",
       "    .dataframe tbody tr th:only-of-type {\n",
       "        vertical-align: middle;\n",
       "    }\n",
       "\n",
       "    .dataframe tbody tr th {\n",
       "        vertical-align: top;\n",
       "    }\n",
       "\n",
       "    .dataframe thead th {\n",
       "        text-align: right;\n",
       "    }\n",
       "</style>\n",
       "<table border=\"1\" class=\"dataframe\">\n",
       "  <thead>\n",
       "    <tr style=\"text-align: right;\">\n",
       "      <th></th>\n",
       "      <th>user_id</th>\n",
       "      <th>timestamp</th>\n",
       "      <th>group</th>\n",
       "      <th>landing_page</th>\n",
       "      <th>converted</th>\n",
       "    </tr>\n",
       "  </thead>\n",
       "  <tbody>\n",
       "    <tr>\n",
       "      <th>1899</th>\n",
       "      <td>773192</td>\n",
       "      <td>2017-01-09 05:37:58.781806</td>\n",
       "      <td>treatment</td>\n",
       "      <td>new_page</td>\n",
       "      <td>0</td>\n",
       "    </tr>\n",
       "    <tr>\n",
       "      <th>2893</th>\n",
       "      <td>773192</td>\n",
       "      <td>2017-01-14 02:55:59.590927</td>\n",
       "      <td>treatment</td>\n",
       "      <td>new_page</td>\n",
       "      <td>0</td>\n",
       "    </tr>\n",
       "  </tbody>\n",
       "</table>\n",
       "</div>"
      ],
      "text/plain": [
       "      user_id                   timestamp      group landing_page  converted\n",
       "1899   773192  2017-01-09 05:37:58.781806  treatment     new_page          0\n",
       "2893   773192  2017-01-14 02:55:59.590927  treatment     new_page          0"
      ]
     },
     "execution_count": 12,
     "metadata": {},
     "output_type": "execute_result"
    }
   ],
   "source": [
    "df2[df2['user_id'] == 773192]"
   ]
  },
  {
   "cell_type": "markdown",
   "metadata": {},
   "source": [
    "**d.** Remove **one** of the rows with a duplicate **user_id**, from the **df2** dataframe."
   ]
  },
  {
   "cell_type": "code",
   "execution_count": 13,
   "metadata": {},
   "outputs": [
    {
     "data": {
      "text/html": [
       "<div>\n",
       "<style scoped>\n",
       "    .dataframe tbody tr th:only-of-type {\n",
       "        vertical-align: middle;\n",
       "    }\n",
       "\n",
       "    .dataframe tbody tr th {\n",
       "        vertical-align: top;\n",
       "    }\n",
       "\n",
       "    .dataframe thead th {\n",
       "        text-align: right;\n",
       "    }\n",
       "</style>\n",
       "<table border=\"1\" class=\"dataframe\">\n",
       "  <thead>\n",
       "    <tr style=\"text-align: right;\">\n",
       "      <th></th>\n",
       "      <th>user_id</th>\n",
       "      <th>timestamp</th>\n",
       "      <th>group</th>\n",
       "      <th>landing_page</th>\n",
       "      <th>converted</th>\n",
       "    </tr>\n",
       "  </thead>\n",
       "  <tbody>\n",
       "  </tbody>\n",
       "</table>\n",
       "</div>"
      ],
      "text/plain": [
       "Empty DataFrame\n",
       "Columns: [user_id, timestamp, group, landing_page, converted]\n",
       "Index: []"
      ]
     },
     "execution_count": 13,
     "metadata": {},
     "output_type": "execute_result"
    }
   ],
   "source": [
    "# Remove one of the rows with a duplicate user_id..\n",
    "# Hint: The dataframe.drop_duplicates() may not work in this case because the rows with duplicate user_id are not entirely identical. \n",
    "\n",
    "#Here we will append a duplicate roq then make drop_duplicates , this wil remove the second duplicate of row of user_id 773192\n",
    "df2 = df2.append( dup).drop_duplicates(keep=False)\n",
    "# Check again if the row with a duplicate user_id is deleted or not\n",
    "df2[df2.user_id.duplicated()]"
   ]
  },
  {
   "cell_type": "markdown",
   "metadata": {},
   "source": [
    "### ToDo 1.4  \n",
    "Use **df2** in the cells below to answer the quiz questions related to **Quiz 4** in the classroom.\n",
    "\n",
    "**a.** What is the probability of an individual converting regardless of the page they receive?<br><br>\n",
    "\n",
    ">**Tip**: The probability  you'll compute represents the overall \"converted\" success rate in the population and you may call it $p_{population}$.\n",
    "\n"
   ]
  },
  {
   "cell_type": "code",
   "execution_count": 14,
   "metadata": {},
   "outputs": [
    {
     "data": {
      "text/plain": [
       "0.11959708724499628"
      ]
     },
     "execution_count": 14,
     "metadata": {},
     "output_type": "execute_result"
    }
   ],
   "source": [
    "p_population = df2['converted'].sum()/df2['converted'].count()\n",
    "p_population"
   ]
  },
  {
   "cell_type": "markdown",
   "metadata": {},
   "source": [
    "**b.** Given that an individual was in the `control` group, what is the probability they converted?"
   ]
  },
  {
   "cell_type": "code",
   "execution_count": 15,
   "metadata": {},
   "outputs": [
    {
     "data": {
      "text/plain": [
       "0.1203863045004612"
      ]
     },
     "execution_count": 15,
     "metadata": {},
     "output_type": "execute_result"
    }
   ],
   "source": [
    "df_cont = df2[df2['group'] == 'control']\n",
    "p_cont_conv = df_cont['converted'].sum()/df_cont['converted'].count()\n",
    "p_cont_conv"
   ]
  },
  {
   "cell_type": "markdown",
   "metadata": {},
   "source": [
    "**c.** Given that an individual was in the `treatment` group, what is the probability they converted?"
   ]
  },
  {
   "cell_type": "code",
   "execution_count": 16,
   "metadata": {},
   "outputs": [
    {
     "data": {
      "text/plain": [
       "0.11880806551510564"
      ]
     },
     "execution_count": 16,
     "metadata": {},
     "output_type": "execute_result"
    }
   ],
   "source": [
    "df_treat = df2[df2['group'] == 'treatment']\n",
    "p_treat_conv = df_treat['converted'].sum()/df_treat['converted'].count()\n",
    "p_treat_conv"
   ]
  },
  {
   "cell_type": "markdown",
   "metadata": {},
   "source": [
    ">**Tip**: The probabilities you've computed in the points (b). and (c). above can also be treated as conversion rate. \n",
    "Calculate the actual difference  (`obs_diff`) between the conversion rates for the two groups. You will need that later.  "
   ]
  },
  {
   "cell_type": "code",
   "execution_count": 17,
   "metadata": {},
   "outputs": [
    {
     "data": {
      "text/plain": [
       "-0.0015782389853555567"
      ]
     },
     "execution_count": 17,
     "metadata": {},
     "output_type": "execute_result"
    }
   ],
   "source": [
    "# Calculate the actual difference (obs_diff) between the conversion rates for the two groups.\n",
    "obs_diff = p_treat_conv - p_cont_conv\n",
    "obs_diff"
   ]
  },
  {
   "cell_type": "markdown",
   "metadata": {},
   "source": [
    "**d.** What is the probability that an individual received the new page?"
   ]
  },
  {
   "cell_type": "code",
   "execution_count": 18,
   "metadata": {},
   "outputs": [
    {
     "data": {
      "text/plain": [
       "0.50006194422266881"
      ]
     },
     "execution_count": 18,
     "metadata": {},
     "output_type": "execute_result"
    }
   ],
   "source": [
    "p_rec_new = (df2['landing_page'] == 'new_page').mean()\n",
    "p_rec_new"
   ]
  },
  {
   "cell_type": "markdown",
   "metadata": {},
   "source": [
    "**e.** Consider your results from parts (a) through (d) above, and explain below whether the new `treatment` group users lead to more conversions."
   ]
  },
  {
   "cell_type": "markdown",
   "metadata": {},
   "source": [
    ">**The treatment group did not lead to more conversion rates, although the the proportions of the test groups are nearly 50 % 50 % and the sample size is large. I believe the old page is better**"
   ]
  },
  {
   "cell_type": "markdown",
   "metadata": {},
   "source": [
    "<a id='ab_test'></a>\n",
    "## Part II - A/B Test\n",
    "\n",
    "Since a timestamp is associated with each event, you could run a hypothesis test continuously as long as you observe the events. \n",
    "\n",
    "However, then the hard questions would be: \n",
    "- Do you stop as soon as one page is considered significantly better than another or does it need to happen consistently for a certain amount of time?  \n",
    "- How long do you run to render a decision that neither page is better than another?  \n",
    "\n",
    "These questions are the difficult parts associated with A/B tests in general.  \n",
    "\n",
    "\n",
    "### ToDo 2.1\n",
    "For now, consider you need to make the decision just based on all the data provided.  \n",
    "\n",
    "> Recall that you just calculated that the \"converted\" probability (or rate) for the old page is *slightly* higher than that of the new page (ToDo 1.4.c). \n",
    "\n",
    "If you want to assume that the old page is better unless the new page proves to be definitely better at a Type I error rate of 5%, what should be your null and alternative hypotheses (**$H_0$** and **$H_1$**)?  \n",
    "\n",
    "You can state your hypothesis in terms of words or in terms of **$p_{old}$** and **$p_{new}$**, which are the \"converted\" probability (or rate) for the old and new pages respectively."
   ]
  },
  {
   "cell_type": "markdown",
   "metadata": {},
   "source": [
    ">**H0 : Pold >= Pnew <br>\n",
    "H1: Pold < Pnew**"
   ]
  },
  {
   "cell_type": "markdown",
   "metadata": {},
   "source": [
    "### ToDo 2.2 - Null Hypothesis $H_0$ Testing\n",
    "Under the null hypothesis $H_0$, assume that $p_{new}$ and $p_{old}$ are equal. Furthermore, assume that $p_{new}$ and $p_{old}$ both are equal to the **converted** success rate in the `df2` data regardless of the page. So, our assumption is: <br><br>\n",
    "<center>\n",
    "$p_{new}$ = $p_{old}$ = $p_{population}$\n",
    "</center>\n",
    "\n",
    "In this section, you will: \n",
    "\n",
    "- Simulate (bootstrap) sample data set for both groups, and compute the  \"converted\" probability $p$ for those samples. \n",
    "\n",
    "\n",
    "- Use a sample size for each group equal to the ones in the `df2` data.\n",
    "\n",
    "\n",
    "- Compute the difference in the \"converted\" probability for the two samples above. \n",
    "\n",
    "\n",
    "- Perform the sampling distribution for the \"difference in the converted probability\" between the two simulated-samples over 10,000 iterations; and calculate an estimate. \n",
    "\n",
    "\n",
    "\n",
    "Use the cells below to provide the necessary parts of this simulation.  You can use **Quiz 5** in the classroom to make sure you are on the right track."
   ]
  },
  {
   "cell_type": "markdown",
   "metadata": {},
   "source": [
    "**a.** What is the **conversion rate** for $p_{new}$ under the null hypothesis? "
   ]
  },
  {
   "cell_type": "code",
   "execution_count": 19,
   "metadata": {},
   "outputs": [
    {
     "data": {
      "text/plain": [
       "0.11959708724499628"
      ]
     },
     "execution_count": 19,
     "metadata": {},
     "output_type": "execute_result"
    }
   ],
   "source": [
    "p_new = df2['converted'].sum()/df2['converted'].count()\n",
    "p_new"
   ]
  },
  {
   "cell_type": "markdown",
   "metadata": {},
   "source": [
    "**b.** What is the **conversion rate** for $p_{old}$ under the null hypothesis? "
   ]
  },
  {
   "cell_type": "code",
   "execution_count": 20,
   "metadata": {},
   "outputs": [
    {
     "data": {
      "text/plain": [
       "0.11959708724499628"
      ]
     },
     "execution_count": 20,
     "metadata": {},
     "output_type": "execute_result"
    }
   ],
   "source": [
    "p_old = df2['converted'].sum()/df2['converted'].count()\n",
    "p_old"
   ]
  },
  {
   "cell_type": "markdown",
   "metadata": {},
   "source": [
    "**c.** What is $n_{new}$, the number of individuals in the treatment group? <br><br>\n",
    "*Hint*: The treatment group users are shown the new page."
   ]
  },
  {
   "cell_type": "code",
   "execution_count": 21,
   "metadata": {},
   "outputs": [
    {
     "data": {
      "text/plain": [
       "145310"
      ]
     },
     "execution_count": 21,
     "metadata": {},
     "output_type": "execute_result"
    }
   ],
   "source": [
    "n_new = df2[df2['landing_page'] == 'new_page']['user_id'].count()\n",
    "n_new"
   ]
  },
  {
   "cell_type": "markdown",
   "metadata": {},
   "source": [
    "**d.** What is $n_{old}$, the number of individuals in the control group?"
   ]
  },
  {
   "cell_type": "code",
   "execution_count": 22,
   "metadata": {},
   "outputs": [
    {
     "data": {
      "text/plain": [
       "145274"
      ]
     },
     "execution_count": 22,
     "metadata": {},
     "output_type": "execute_result"
    }
   ],
   "source": [
    "n_old = df2[df2['landing_page'] == 'old_page']['user_id'].count()\n",
    "n_old"
   ]
  },
  {
   "cell_type": "markdown",
   "metadata": {},
   "source": [
    "**e. Simulate Sample for the `treatment` Group**<br> \n",
    "Simulate $n_{new}$ transactions with a conversion rate of $p_{new}$ under the null hypothesis.  <br><br>\n",
    "*Hint*: Use `numpy.random.choice()` method to randomly generate $n_{new}$ number of values. <br>\n",
    "Store these $n_{new}$ 1's and 0's in the `new_page_converted` numpy array.\n"
   ]
  },
  {
   "cell_type": "code",
   "execution_count": 23,
   "metadata": {},
   "outputs": [],
   "source": [
    "# Simulate a Sample for the treatment Group\n",
    "new_page_converted = np.random.choice([0,1],size = n_new, p =[1-p_new, p_new])\n",
    "p_sim_new = new_page_converted.mean()"
   ]
  },
  {
   "cell_type": "markdown",
   "metadata": {},
   "source": [
    "**f. Simulate Sample for the `control` Group** <br>\n",
    "Simulate $n_{old}$ transactions with a conversion rate of $p_{old}$ under the null hypothesis. <br> Store these $n_{old}$ 1's and 0's in the `old_page_converted` numpy array."
   ]
  },
  {
   "cell_type": "code",
   "execution_count": 24,
   "metadata": {},
   "outputs": [],
   "source": [
    "# Simulate a Sample for the control Group\n",
    "old_page_converted = np.random.choice([0,1],size = n_old, p =[1-p_old, p_old])\n",
    "p_sim_old = old_page_converted.mean()"
   ]
  },
  {
   "cell_type": "markdown",
   "metadata": {},
   "source": [
    "**g.** Find the difference in the \"converted\" probability $(p{'}_{new}$ - $p{'}_{old})$ for your simulated samples from the parts (e) and (f) above. "
   ]
  },
  {
   "cell_type": "code",
   "execution_count": 25,
   "metadata": {},
   "outputs": [
    {
     "data": {
      "text/plain": [
       "-0.00039448596531838076"
      ]
     },
     "execution_count": 25,
     "metadata": {},
     "output_type": "execute_result"
    }
   ],
   "source": [
    "diff_converted = p_sim_new - p_sim_old\n",
    "diff_converted"
   ]
  },
  {
   "cell_type": "markdown",
   "metadata": {},
   "source": [
    "\n",
    "**h. Sampling distribution** <br>\n",
    "Re-create `new_page_converted` and `old_page_converted` and find the $(p{'}_{new}$ - $p{'}_{old})$ value 10,000 times using the same simulation process you used in parts (a) through (g) above. \n",
    "\n",
    "<br>\n",
    "Store all  $(p{'}_{new}$ - $p{'}_{old})$  values in a NumPy array called `p_diffs`."
   ]
  },
  {
   "cell_type": "code",
   "execution_count": 26,
   "metadata": {},
   "outputs": [
    {
     "data": {
      "text/plain": [
       "[-0.00097237113053330604,\n",
       " -0.0014613500476050312,\n",
       " 0.00038327096597221,\n",
       " -0.00049060659980992849,\n",
       " 0.00038356940605516199,\n",
       " 0.0013470166096506142,\n",
       " -0.00038752738475542059,\n",
       " -0.0027481873988124128,\n",
       " 0.0012022387777473748,\n",
       " 0.00059645789689213857,\n",
       " 0.00051395086732784756,\n",
       " 0.00026636667987454954,\n",
       " -0.00017414092532287706,\n",
       " 0.00035581012016706881,\n",
       " -0.0014544392174553472,\n",
       " 0.00200765096724001,\n",
       " -0.00016018965675891617,\n",
       " -0.001344455993738794,\n",
       " 0.0018079548544703006,\n",
       " 0.0014982192407112654,\n",
       " -0.0012549017042726013,\n",
       " 0.001009712711656563,\n",
       " 0.00030079974921785879,\n",
       " -0.00066271907999748692,\n",
       " -0.0025966317557679086,\n",
       " 0.00043182413569783917,\n",
       " -0.00205307563221023,\n",
       " 0.001966423033036388,\n",
       " -0.00072473407655102018,\n",
       " -0.0029821187577847158,\n",
       " 0.0030467711119856744,\n",
       " -0.00018114896167101269,\n",
       " -0.00067662430352007086,\n",
       " -0.0012133650977546179,\n",
       " -0.00035293230508137707,\n",
       " -0.00027754245566696811,\n",
       " 0.00078236304605673601,\n",
       " -0.00022923315412341772,\n",
       " -0.0019567895766441357,\n",
       " -0.00086932602291686645,\n",
       " -0.00047695547670081884,\n",
       " -0.0011722360751213468,\n",
       " 0.00039723928825519117,\n",
       " 0.00093416426265521824,\n",
       " -0.0010621914580162956,\n",
       " -0.00080071398464373611,\n",
       " 0.00083763433890704508,\n",
       " 0.0010647520739281158,\n",
       " 0.00088585496111165396,\n",
       " 0.00076207565767429097,\n",
       " -0.00031181351467952922,\n",
       " 0.0009133908432805149,\n",
       " 0.0015534001488507337,\n",
       " 0.00063100693152483289,\n",
       " -0.00051819705387964876,\n",
       " 0.00015633570574472011,\n",
       " 0.00082384508067384621,\n",
       " 0.00077567561962629816,\n",
       " -0.00040146501034415971,\n",
       " 0.0014157377917255048,\n",
       " 0.0012092195281450668,\n",
       " -0.0010207128341430116,\n",
       " 0.0019937764404116542,\n",
       " 0.00025240006296346762,\n",
       " 0.00094792111882227581,\n",
       " -0.0010277396295820668,\n",
       " 0.00065163198354400986,\n",
       " -0.0029203680938760801,\n",
       " 0.00050717476155848207,\n",
       " -0.00079372641275844702,\n",
       " -0.001103429624451327,\n",
       " -0.00014659140017879435,\n",
       " -2.9574559535575085e-05,\n",
       " -0.0019704679857036889,\n",
       " -0.00053883915961785989,\n",
       " 0.00050710995742617171,\n",
       " 0.0013540041815359033,\n",
       " 0.0032397780929530329,\n",
       " -0.0013028733421794336,\n",
       " -0.00051825674189623361,\n",
       " -0.0027755493330471892,\n",
       " -0.0010966313488472296,\n",
       " 0.0018011685164695118,\n",
       " 0.0020215050296055054,\n",
       " 0.0014983010985625822,\n",
       " -0.0031062732430406775,\n",
       " 0.00042474788447359468,\n",
       " -0.001495680794634191,\n",
       " -0.00028436290110581131,\n",
       " 0.0010921447048571481,\n",
       " 0.00073422598707534314,\n",
       " 0.00039009311678295244,\n",
       " -8.4434857757345605e-05,\n",
       " 0.00017685843544973379,\n",
       " 0.0010645457239278899,\n",
       " 0.00089298919498058404,\n",
       " 0.001230129377271974,\n",
       " -0.0015300166577790347,\n",
       " -0.00082804181144045808,\n",
       " 0.0018357755337468917,\n",
       " 0.00047982305955510118,\n",
       " 0.00075499770107814723,\n",
       " 0.0014916375473387894,\n",
       " -0.00011207476761226909,\n",
       " 0.00094762438411120919,\n",
       " 0.0011407081068141867,\n",
       " 0.0014295202284710928,\n",
       " 4.6065979548509661e-05,\n",
       " 0.0016013700813856668,\n",
       " -0.00049057590311567256,\n",
       " 0.0011681263183217633,\n",
       " 0.00031431614794664997,\n",
       " -0.00033252724603763384,\n",
       " -0.00072484492572469361,\n",
       " -0.00088334209561312382,\n",
       " 0.00041092110805854287,\n",
       " 0.0018423862184417106,\n",
       " -0.0008074457507436239,\n",
       " -0.00061453256523093247,\n",
       " -0.0014475846645784635,\n",
       " -0.00011907086635708219,\n",
       " -0.00028429127548589006,\n",
       " -0.00063533497592796473,\n",
       " -0.0012545026472473852,\n",
       " 0.0018698402427592409,\n",
       " -0.00073834085999063825,\n",
       " -0.00025676050943275464,\n",
       " -0.0011031414165997844,\n",
       " -0.00032537595844968348,\n",
       " 0.0010924908953533763,\n",
       " -0.0018536796648954135,\n",
       " 0.00064464270628680764,\n",
       " -0.0029890824544633737,\n",
       " -0.00011899071387765081,\n",
       " -0.00095182282024974807,\n",
       " -0.001667820560772193,\n",
       " 0.00021813412006661814,\n",
       " -0.0019773822265971575,\n",
       " 0.00033491561938728265,\n",
       " -0.0012685272468031666,\n",
       " 0.00042445967662205208,\n",
       " -0.00038745575913551322,\n",
       " 0.0012091172058309035,\n",
       " 0.00088588906854972227,\n",
       " 0.001182029836472448,\n",
       " 6.6667156361055468e-05,\n",
       " -0.00064192519615995092,\n",
       " -0.0004013660987738088,\n",
       " 0.00086509177396838777,\n",
       " -0.0012342459555591823,\n",
       " 0.00056914030232683988,\n",
       " 0.0016497919374747899,\n",
       " -0.00090409334515309525,\n",
       " 1.183926020542625e-05,\n",
       " -0.0016815654793359419,\n",
       " -2.0148021600829846e-06,\n",
       " 0.0017596302045796292,\n",
       " 0.00045894220175053679,\n",
       " 0.00070675149829498018,\n",
       " -0.0013925896419763745,\n",
       " -0.00078666892062513594,\n",
       " -0.00013995513490544509,\n",
       " 0.00056225334738378707,\n",
       " 0.0015876882615823151,\n",
       " -0.0014131413630037309,\n",
       " -0.00073170971083300063,\n",
       " 0.0014364992734968857,\n",
       " 0.0020281395895069554,\n",
       " 0.00024580131587197129,\n",
       " -0.00056637333641480769,\n",
       " 0.00075488514653256067,\n",
       " 0.0012574060429116213,\n",
       " 8.7449102595268946e-05,\n",
       " 0.00029389915129959809,\n",
       " 0.001250600945819913,\n",
       " 0.00061756727453166071,\n",
       " -0.0013649599643528743,\n",
       " 0.0031500822576189247,\n",
       " 0.00071353954166768208,\n",
       " -0.00095183646322495596,\n",
       " 0.0001219589136741972,\n",
       " -0.0010276253696645948,\n",
       " 0.00014943340245456016,\n",
       " 4.7902949316253052e-06,\n",
       " -0.001240786720005993,\n",
       " -0.00014668007951773587,\n",
       " -0.00020850577979007745,\n",
       " -0.0013165040008256829,\n",
       " 0.00089275726440182779,\n",
       " 0.0017392421992549201,\n",
       " -0.0018122402645758678,\n",
       " -0.0010274292518957784,\n",
       " 0.0026339886852383004,\n",
       " 8.0613308809304729e-05,\n",
       " 0.00052094526070076141,\n",
       " -0.00042180355988369334,\n",
       " 0.0020146658250757427,\n",
       " 0.00025273772660018567,\n",
       " -0.00065581166059161533,\n",
       " -0.0013580695986660229,\n",
       " -6.4029798713616248e-05,\n",
       " -5.7221290878095576e-05,\n",
       " 0.0013954964483844229,\n",
       " 0.0010301672264854678,\n",
       " -0.0015713008692554292,\n",
       " 0.00052795329704888316,\n",
       " 0.00023875917208579511,\n",
       " 0.00041786092953055576,\n",
       " -0.00077271594668927579,\n",
       " 0.0015948378437983662,\n",
       " 0.0023448457214322732,\n",
       " 0.0014915676270907813,\n",
       " 0.00031453102480637207,\n",
       " 0.0012093491364096737,\n",
       " -0.00097241547020276986,\n",
       " 0.00078255745845362545,\n",
       " 0.0015188442927304285,\n",
       " -0.00088982658278714821,\n",
       " 0.0015398087137582228,\n",
       " -0.0020667898540797369,\n",
       " -0.00055273074016522206,\n",
       " 0.0019665117123753295,\n",
       " -0.001777365503909778,\n",
       " -0.0025075242737402081,\n",
       " -0.0010345174407233315,\n",
       " -0.0003873380884742289,\n",
       " -7.1141862747800544e-05,\n",
       " -0.00033249484397147866,\n",
       " 0.001746129154197959,\n",
       " -0.00054561867613102388,\n",
       " -0.0014615154686795917,\n",
       " -0.00084886809734414925,\n",
       " 0.00053467824166118783,\n",
       " 0.00082389112571520928,\n",
       " 0.0012020784727885259,\n",
       " 0.0010028564534077661,\n",
       " -0.0015505939593849355,\n",
       " -0.00018773747653108575,\n",
       " 0.00048665203185345451,\n",
       " 0.00023884955679663589,\n",
       " -0.00094513027770359859,\n",
       " 0.00020465865026349228,\n",
       " -0.00033265514893032755,\n",
       " -0.00016017260303989589,\n",
       " 0.00048656505788642612,\n",
       " 0.00039022784116325704,\n",
       " 0.0010302780756591412,\n",
       " 0.00045202966622896745,\n",
       " -0.00073867340751165855,\n",
       " -0.0002019206756738029,\n",
       " 0.00048645761945656507,\n",
       " 0.0010852543391702968,\n",
       " -0.00024971836564656458,\n",
       " 0.001367585384396991,\n",
       " 0.0010574183115465846,\n",
       " 0.00056914030232683988,\n",
       " 0.0021796969379233727,\n",
       " 0.0010166474170128781,\n",
       " 0.0012574861953910388,\n",
       " 0.00047962182567060085,\n",
       " 0.0027924142295068094,\n",
       " -0.00091063752034370449,\n",
       " -0.00073164661207258952,\n",
       " -0.0018261949438836272,\n",
       " -0.00058007562068097818,\n",
       " 0.00022493410104262868,\n",
       " 0.0010918530862617931,\n",
       " 0.00082378709802914674,\n",
       " -0.00063524800196092246,\n",
       " -0.00056648589096038038,\n",
       " -0.0011583189139954542,\n",
       " 0.0012160485004434202,\n",
       " -0.00095866031940761154,\n",
       " 0.00024607247000449362,\n",
       " 0.0011405375696239284,\n",
       " 0.0013124164138608313,\n",
       " -7.7556429673816818e-05,\n",
       " -0.00058713652355808776,\n",
       " -0.0011927980283801265,\n",
       " 0.0020012210519668588,\n",
       " 1.8426069693600056e-05,\n",
       " -0.00095899968841622885,\n",
       " 0.00057583284487297548,\n",
       " -0.00058009267440001233,\n",
       " 0.00045216780135307055,\n",
       " 0.00099627134929149153,\n",
       " -0.0017364240721858132,\n",
       " -0.00058043545415244202,\n",
       " 0.00094099152958165844,\n",
       " -0.00029792534487596556,\n",
       " 0.0017184176187231281,\n",
       " 0.0012023155194829938,\n",
       " 0.0033979239562295233,\n",
       " -0.00086250046136231162,\n",
       " -0.00088286800222418804,\n",
       " -0.00079364284953521713,\n",
       " 0.0019045137695408165,\n",
       " -0.00033255282661616425,\n",
       " -0.00091745626041063455,\n",
       " -0.0021083230498539218,\n",
       " 0.0011198050791748904,\n",
       " 0.00041073692789304894,\n",
       " -0.0003394636567658621,\n",
       " 0.001353987127816883,\n",
       " -0.0019500339353376028,\n",
       " -0.0015575917635016479,\n",
       " -0.00024988037597731272,\n",
       " -0.0021837947571196475,\n",
       " 0.00063789900258359733,\n",
       " -0.00035325462037096023,\n",
       " 0.0015328194365010345,\n",
       " 0.00043162119644141184,\n",
       " -0.0002154524227497151,\n",
       " -0.00017428417656270567,\n",
       " 0.0011608471278411053,\n",
       " -0.0012822022451188797,\n",
       " -0.0010482794130061007,\n",
       " -0.00079364455490710251,\n",
       " 0.00096843532166776547,\n",
       " -0.0011581705466399139,\n",
       " -0.00013286182996218032,\n",
       " -0.0011788177684938228,\n",
       " 0.0012436577136040877,\n",
       " -0.00045623492385510334,\n",
       " 0.00067229455374503977,\n",
       " 0.00098875511211636569,\n",
       " 0.0014228038107183122,\n",
       " 5.9688111335276517e-05,\n",
       " 0.00061751952411839839,\n",
       " -0.00026363552677248492,\n",
       " -0.001048090116724909,\n",
       " -2.2530710377485774e-05,\n",
       " 0.0016013001611376587,\n",
       " 7.3615504692592371e-05,\n",
       " 0.00098240364395076052,\n",
       " 1.8349327957981054e-05,\n",
       " 3.9180729977369988e-05,\n",
       " 0.00083775371494022866,\n",
       " 0.00029367233683653959,\n",
       " -0.0001739669773888064,\n",
       " -0.00050444701920020207,\n",
       " 0.001663637472980789,\n",
       " 0.0012367247136196718,\n",
       " -0.0007866160540961481,\n",
       " -0.00020879739838543243,\n",
       " -0.00068332878366954286,\n",
       " -0.0011654036920791949,\n",
       " -0.00025686624249071643,\n",
       " 0.00022495797624925984,\n",
       " -0.00038767404673906158,\n",
       " -0.00062157811976090716,\n",
       " 0.0015605548471824826,\n",
       " -0.00011927892172919341,\n",
       " 0.0011335789890609682,\n",
       " 0.00064518671992375154,\n",
       " -0.00036678636744688631,\n",
       " 0.00096163363531986956,\n",
       " 0.0015394727554934179,\n",
       " -0.00027070495650910464,\n",
       " -0.0012134793576720898,\n",
       " 0.0016428094817051986,\n",
       " 0.0020211315531588336,\n",
       " 0.0021382149033062625,\n",
       " -0.0008418447126488926,\n",
       " -0.0018673069127978642,\n",
       " -0.00069037433819951755,\n",
       " -0.0021353387935924562,\n",
       " 0.00028024632281860307,\n",
       " -0.0015299365052996172,\n",
       " 0.00082380415174816701,\n",
       " 0.00030060192607715697,\n",
       " 8.7466156314303101e-05,\n",
       " 0.0010165024604011502,\n",
       " 0.00020463818580065962,\n",
       " -0.0012755028810851332,\n",
       " 0.0010373833182057146,\n",
       " 0.0004315546869372161,\n",
       " -0.00031193459608461205,\n",
       " 4.6096676242765589e-05,\n",
       " 4.6021639879045839e-05,\n",
       " 0.0031157191085236235,\n",
       " 0.0012848839424357966,\n",
       " 0.00023886661051565616,\n",
       " 0.00029378830212592466,\n",
       " -0.0017641697150986846,\n",
       " -0.00011916466181172147,\n",
       " -0.0015094376508012486,\n",
       " 0.0027440759366409162,\n",
       " 0.00048661280829970233,\n",
       " 0.00061040916545611335,\n",
       " 0.00065209243395772387,\n",
       " -0.0018053567203766413,\n",
       " 0.00056198389862317788,\n",
       " 8.7500263752343654e-05,\n",
       " 0.0015946724227238196,\n",
       " -0.0020670405437494266,\n",
       " -0.00035310113689972222,\n",
       " -0.0021423672944034244,\n",
       " 0.0014433725854647028,\n",
       " -0.00053188569517059747,\n",
       " -0.0016882051553531036,\n",
       " -0.0011858326263295554,\n",
       " 0.00072744988130596377,\n",
       " -0.0014337237807253295,\n",
       " 0.00049326101117637411,\n",
       " 0.00059652952251205982,\n",
       " -0.0015093131586523534,\n",
       " -0.00087603050306632457,\n",
       " -0.0014196855381943541,\n",
       " -0.0015713435035530077,\n",
       " 0.0018975790641845014,\n",
       " 0.0031914091033928838,\n",
       " -0.0037739156369781951,\n",
       " 0.00090638110156048002,\n",
       " 0.00067234230415831597,\n",
       " -0.00031851117334137646,\n",
       " -0.0010479963212702698,\n",
       " -0.00088982658278714821,\n",
       " -0.00059374038676529572,\n",
       " -0.00034608798443588884,\n",
       " 0.00012161101780605588,\n",
       " 0.00083054956082329046,\n",
       " -0.001902006020157998,\n",
       " -0.00029800208661158456,\n",
       " -0.0003873960711189145,\n",
       " 0.0021868277610484904,\n",
       " 0.00076865394030295464,\n",
       " -0.00066285039363399301,\n",
       " -2.3006509138334685e-05,\n",
       " 0.00026618079433717023,\n",
       " 0.0011816307794472319,\n",
       " 0.00083084970627816945,\n",
       " 4.6207525416425144e-05,\n",
       " 0.0021452536363486402,\n",
       " 0.0003491278098523426,\n",
       " -0.00077296834173085083,\n",
       " -0.00054599897406532039,\n",
       " 0.0016426645250934707,\n",
       " -0.001447449940198145,\n",
       " 0.00022496820848066923,\n",
       " 0.0021866009465854319,\n",
       " -0.00029808394446290132,\n",
       " 0.00090643396808946786,\n",
       " 0.001044074155379951,\n",
       " 0.0011815915558934659,\n",
       " 0.0010512629611497681,\n",
       " -0.00046336745235213417,\n",
       " 0.00019057095194732754,\n",
       " -0.001516067094586987,\n",
       " -0.00024997076068815349,\n",
       " -0.0011309262830664218,\n",
       " -0.00088308628982772253,\n",
       " 0.00082384337530193308,\n",
       " -0.0019776192732916392,\n",
       " 0.0011817058158109517,\n",
       " 0.0011749211831820622,\n",
       " 0.00066549798351282774,\n",
       " 0.00042452277538244931,\n",
       " 0.00063108878937616353,\n",
       " -0.0014061265051679983,\n",
       " -0.00056634946120816265,\n",
       " 0.00069995151731896965,\n",
       " 0.0015601933083391334,\n",
       " -0.0008900960315477574,\n",
       " -0.001130719933066196,\n",
       " 0.00085798823679369973,\n",
       " -0.00045639863955775073,\n",
       " -0.00058708706777291231,\n",
       " -0.0011102040248487932,\n",
       " -0.00069036410596810815,\n",
       " 0.0031225225002434326,\n",
       " -0.0012342169642368395,\n",
       " -0.0015712343597512335,\n",
       " 0.00037643687755814503,\n",
       " 0.00050727537850073223,\n",
       " -0.00053898582160147313,\n",
       " 0.0013884508938544343,\n",
       " 0.00038362568332796221,\n",
       " 6.6837693551313748e-05,\n",
       " 0.00088590271152494404,\n",
       " 0.0021869096188998072,\n",
       " -5.0341157422667537e-05,\n",
       " -0.00093815634879351739,\n",
       " -0.0011103131686505674,\n",
       " -0.00038038291865509499,\n",
       " 0.00038337499365827254,\n",
       " 0.0001904703350050635,\n",
       " -0.00086230263822159592,\n",
       " -0.00091752959140245505,\n",
       " -0.00073178304182480725,\n",
       " -0.00058029390828451266,\n",
       " -0.00018791654058086804,\n",
       " 0.00064515261248569711,\n",
       " 0.00051416233344378504,\n",
       " 0.001532976330716071,\n",
       " -7.7723556120276593e-05,\n",
       " 0.0025377043350441053,\n",
       " -0.00028428104325448067,\n",
       " -0.0009933679536272555,\n",
       " 0.00031452590869067432,\n",
       " -0.00036708310215793905,\n",
       " 0.0016085878784778268,\n",
       " -0.00019478303106107431,\n",
       " 6.6876917105065936e-05,\n",
       " -0.0017434014118396929,\n",
       " -0.00017428758730650418,\n",
       " 0.00011476669716058152,\n",
       " -0.0013371017668944302,\n",
       " -0.0010619510005780292,\n",
       " -0.0010757197943484093,\n",
       " 0.00070668669416269758,\n",
       " 0.00017687037305304243,\n",
       " 0.0019251814558575581,\n",
       " -0.0011375028603231724,\n",
       " 0.0017322563327415302,\n",
       " 0.0002870463037946136,\n",
       " 0.0012160075715177548,\n",
       " -0.00013300508120200893,\n",
       " -0.0023765015926321409,\n",
       " 0.00063804225382341206,\n",
       " -0.00024995029622532083,\n",
       " 0.00045903429183327682,\n",
       " -0.001062095957189757,\n",
       " -0.000394404107467064,\n",
       " -0.0014680477062668784,\n",
       " 0.00076893532666688635,\n",
       " 0.00043164507164805688,\n",
       " 0.0021110866050221416,\n",
       " -0.00079365649251042503,\n",
       " 0.00076883641509653544,\n",
       " 0.0025032235152875199,\n",
       " 0.0026200664079966823,\n",
       " -0.0012615788984716159,\n",
       " -0.00077297004710276396,\n",
       " 0.00116793190592486,\n",
       " 0.0029434633770962226,\n",
       " -0.00036670792033935418,\n",
       " 0.00033513390699081713,\n",
       " 0.0003694697701356886,\n",
       " -0.00072485345258420375,\n",
       " -0.00093125234013145819,\n",
       " 0.0007208681879335016,\n",
       " 0.0022279175601279816,\n",
       " -0.0010757624286459738,\n",
       " 0.00093405000273773242,\n",
       " 0.00094776081386342692,\n",
       " -0.0018191203980313098,\n",
       " -0.002122037271723401,\n",
       " 0.0013882189632756642,\n",
       " -8.4680431311323634e-05,\n",
       " -0.001075648168728488,\n",
       " 0.00035549633173698192,\n",
       " -0.001172261655699891,\n",
       " -0.00080063383216430473,\n",
       " 0.00037641129697961462,\n",
       " 0.00080285678443940689,\n",
       " -0.00016731195302452373,\n",
       " 6.634484107144456e-05,\n",
       " -0.00059414114916241101,\n",
       " 0.0012297968297509676,\n",
       " 0.00071382263340351304,\n",
       " 0.00072038045156934405,\n",
       " 3.9160265514537329e-05,\n",
       " 0.00054189944949713242,\n",
       " -0.00100676327095095,\n",
       " 0.00100294854349052,\n",
       " 0.0019525570330675562,\n",
       " -0.0002431213239269675,\n",
       " -0.0005529405009092464,\n",
       " -0.00052506354435985503,\n",
       " 0.00085147475829733255,\n",
       " -0.00015373416090723457,\n",
       " -0.0012135032328787348,\n",
       " -0.00098637526562624089,\n",
       " 0.00074133293499381581,\n",
       " -0.00021532793060081989,\n",
       " -0.00081433782180238834,\n",
       " -0.00030503911428206298,\n",
       " -0.00098624395198974868,\n",
       " -0.00022228480579186694,\n",
       " 1.8593196140059831e-05,\n",
       " -0.00020862686119516027,\n",
       " -0.00050419462415861316,\n",
       " 0.00042460804397759233,\n",
       " -0.0017984407741112457,\n",
       " -0.00036672497405838833,\n",
       " -0.00034640347823787498,\n",
       " -0.0011171421409489207,\n",
       " 0.0010094739595901958,\n",
       " 0.0012643441590117488,\n",
       " -0.00093124040252813567,\n",
       " -0.00064919585978108485,\n",
       " 0.00038323003704654468,\n",
       " 0.0026686741496231847,\n",
       " -0.00053216196541883143,\n",
       " -0.0014886505884513096,\n",
       " 0.00040418252047103032,\n",
       " -0.00045614283377236331,\n",
       " 0.00094076471511861381,\n",
       " -0.00024977123217555242,\n",
       " -0.00044267077471303595,\n",
       " -0.0018261318451232439,\n",
       " -0.00013287547293740209,\n",
       " 0.0022346800229221253,\n",
       " -0.0015508855779802905,\n",
       " -0.0021080587172090104,\n",
       " 0.00026652357408959992,\n",
       " -0.0011512409573993104,\n",
       " 0.00045892855877531502,\n",
       " -0.0021081508072917365,\n",
       " -0.0011586582830040715,\n",
       " 9.4191100926580007e-05,\n",
       " 0.0001837999622936598,\n",
       " -0.0011654787284429147,\n",
       " 0.00072067718628041066,\n",
       " 0.0015948190847074328,\n",
       " -0.001474979000879395,\n",
       " 0.00078936426091724687,\n",
       " 0.0013263028782924957,\n",
       " -0.0018809648573945709,\n",
       " 5.3010917136248059e-05,\n",
       " 0.00012854572316237101,\n",
       " 0.00089968514827053203,\n",
       " 0.00063115529888035926,\n",
       " 1.134470235365781e-05,\n",
       " -0.00022947190618978486,\n",
       " 0.00083095543933613125,\n",
       " 0.00013553841116338561,\n",
       " 0.0015327426947654155,\n",
       " 0.00058956412046148876,\n",
       " 0.00028688429346385158,\n",
       " 0.00067941002852303645,\n",
       " -0.00066299023413000924,\n",
       " 0.0023309456140254009,\n",
       " -0.00020182176410345198,\n",
       " 0.00051419644088182559,\n",
       " 0.00089940887802231195,\n",
       " 0.00059655680846248949,\n",
       " -0.00058002445952390347,\n",
       " -0.0013649258569148337,\n",
       " -0.00013977948159947517,\n",
       " 0.00087214414998597334,\n",
       " -0.00071108806955763604,\n",
       " -0.00038772009178042466,\n",
       " -0.001619391883195459,\n",
       " -0.0010204809035642415,\n",
       " -0.00038760071574724109,\n",
       " -0.0012962234339308487,\n",
       " -0.0023697391298379833,\n",
       " -0.0011170858636761344,\n",
       " 0.00032124914793106585,\n",
       " -0.002011788009990037,\n",
       " 0.00096146650887340979,\n",
       " 8.05502100489075e-05,\n",
       " -0.00022207163430403021,\n",
       " 0.0010853293755340165,\n",
       " 0.00032811563841127211,\n",
       " -0.00038768598434237023,\n",
       " -5.7038816084514776e-05,\n",
       " -0.001447704040611647,\n",
       " -0.0015162154619425133,\n",
       " 0.00016977365736597916,\n",
       " 0.00074124425565488816,\n",
       " -0.0021427714675443521,\n",
       " 0.00019745449614656796,\n",
       " -0.00033942954932779379,\n",
       " -0.00078674225161694256,\n",
       " -0.0012549426331982666,\n",
       " 0.00091307876022232726,\n",
       " 0.00050712871651710512,\n",
       " 0.00068609404420966191,\n",
       " -0.00075229212855459915,\n",
       " -0.00078685821690632762,\n",
       " -0.00021547629795636014,\n",
       " 0.00025947972493151061,\n",
       " -0.00057338478350674182,\n",
       " 3.2367106026137682e-05,\n",
       " 0.0010990981693043828,\n",
       " 0.00029403046493610419,\n",
       " 0.00042444262290301793,\n",
       " -8.9870256982510499e-06,\n",
       " 0.00027983362281815138,\n",
       " 0.00022496138699305834,\n",
       " -1.5792122789973218e-05,\n",
       " 0.00033526010451161159,\n",
       " -8.9733827230431551e-06,\n",
       " -0.0024798042114058672,\n",
       " -0.0016332169542386255,\n",
       " 0.0008652674272743438,\n",
       " 0.00091327487799112983,\n",
       " 0.00099575121086117879,\n",
       " -0.00093130179591663365,\n",
       " -0.00056631364839820897,\n",
       " -0.0019771195993241591,\n",
       " 0.0015462727364694145,\n",
       " 8.0674702197802706e-05,\n",
       " -0.00022937128924752082,\n",
       " -0.0011032624980048672,\n",
       " 0.0015668909670009806,\n",
       " 0.00090654652263504054,\n",
       " 0.00032156123098925349,\n",
       " -0.000477132835378688,\n",
       " 0.002241795497700122,\n",
       " 0.0010166013719715011,\n",
       " -0.00066968959816375573,\n",
       " 0.00020445059489138107,\n",
       " -0.00049059636757850522,\n",
       " 0.0011131023043973315,\n",
       " -0.00016702374517298113,\n",
       " -0.00073823512693267646,\n",
       " 0.0019249904542044671,\n",
       " 0.00057598632834421348,\n",
       " 0.0016633509705011457,\n",
       " 0.00085809396985166153,\n",
       " 0.00059662843408241073,\n",
       " 0.0008996953805019553,\n",
       " -0.0013441763127467476,\n",
       " 0.00040385849980952016,\n",
       " 0.0018631494055849906,\n",
       " -0.00044286177636614077,\n",
       " -0.00054605354596620748,\n",
       " -0.00069022256010019267,\n",
       " -0.00036680512653780584,\n",
       " -0.0029957818184971202,\n",
       " -0.0016401380166197188,\n",
       " 0.0022281034456653748,\n",
       " -0.0004427901507462334,\n",
       " 0.00015611741814118563,\n",
       " 0.00076191705808734134,\n",
       " -0.00024988549209302435,\n",
       " -0.0019017212230502401,\n",
       " -0.00042879454251279481,\n",
       " -1.5759720723831916e-05,\n",
       " 0.00023875746671388198,\n",
       " -0.00049728549938082844,\n",
       " 0.00038322833167463155,\n",
       " 0.0014088781227329095,\n",
       " 0.002048723712600467,\n",
       " 0.00076158280519442179,\n",
       " -0.0005182345720615017,\n",
       " 0.001897430696828975,\n",
       " 0.00022502278038155632,\n",
       " 0.00034877820861230202,\n",
       " 0.00045197679969997961,\n",
       " -0.0018742399127822801,\n",
       " -0.0001605273203956481,\n",
       " -0.00018772553892776322,\n",
       " -0.0012480079278419515,\n",
       " -0.00066980726882504005,\n",
       " -0.0002565575701763273,\n",
       " 0.00068621512561475861,\n",
       " 0.00020430052216392769,\n",
       " 3.9257471712988989e-05,\n",
       " 0.00021837287213298529,\n",
       " -0.00058722861364082779,\n",
       " 0.0005554891792177441,\n",
       " -0.0011927229920164067,\n",
       " 0.00020443524654426004,\n",
       " 0.00050022982397074367,\n",
       " 0.0023928258861986157,\n",
       " 0.0013814002232087341,\n",
       " 0.0015328330794762562,\n",
       " 0.00070684699912154647,\n",
       " -0.00060753817185800474,\n",
       " 0.00054868067138220955,\n",
       " -0.0011587913020124768,\n",
       " -1.5691505847723053e-05,\n",
       " 0.00032848399874223222,\n",
       " -0.00042195704335493134,\n",
       " -0.0011239267735777964,\n",
       " -0.00055941305047994827,\n",
       " -0.001956470672098351,\n",
       " 0.0011128311502648092,\n",
       " -0.0013853240944709383,\n",
       " 0.00088576287102891393,\n",
       " -0.0020050562438901354,\n",
       " -0.0020533945367560286,\n",
       " -0.00071786246995510228,\n",
       " -0.00065596684943475259,\n",
       " 0.0014156627553617851,\n",
       " -0.0016334625277926035,\n",
       " -0.00031180839856381759,\n",
       " -0.00072478864845189339,\n",
       " -0.00094472610456267092,\n",
       " 8.753778193419659e-05,\n",
       " 0.00094787848452471124,\n",
       " 0.0010647520739281158,\n",
       " 0.00040401027790884503,\n",
       " -0.0015782406907274699,\n",
       " -0.0022595666098402245,\n",
       " 0.0019733236309546487,\n",
       " 0.0033154629717065953,\n",
       " 0.00090626172552728257,\n",
       " 0.0015533779790160018,\n",
       " -8.9648558635191389e-06,\n",
       " -0.00047713624612250038,\n",
       " 0.0024893131756492104,\n",
       " -0.00019477109345776566,\n",
       " 0.0011129215349756638,\n",
       " 0.00094750671344993875,\n",
       " -0.0018398989335217109,\n",
       " -0.0017022161119336493,\n",
       " 0.00069333912725226543,\n",
       " -0.0003252855737388427,\n",
       " 0.00098905014145553305,\n",
       " 0.0022552914319660944,\n",
       " -0.0019914119422686505,\n",
       " 0.00032148448925362061,\n",
       " 0.00064485587777464437,\n",
       " 0.0010508008053641549,\n",
       " 0.00019039188789754524,\n",
       " -0.00029102815770150336,\n",
       " -2.0591418295468067e-06,\n",
       " 0.00088573899582228277,\n",
       " 5.9892755963589228e-05,\n",
       " -0.00045636964823540793,\n",
       " -0.0005526369447105689,\n",
       " 0.00037627145648358451,\n",
       " 4.7459552621614831e-06,\n",
       " -0.0014199464600954392,\n",
       " 0.00023205128119252461,\n",
       " -0.00047014526349339891,\n",
       " 5.3154168376076671e-05,\n",
       " -0.0007661581285234309,\n",
       " 0.0019938156639654203,\n",
       " -0.00064196100896991848,\n",
       " -0.00077285067106958039,\n",
       " 0.00039031993124599706,\n",
       " 0.00098226209808284504,\n",
       " -0.0013784883006849741,\n",
       " -0.00081415875775261992,\n",
       " -0.00096560184625153755,\n",
       " -0.0016884626665103902,\n",
       " -0.00028425716804784951,\n",
       " -0.00091772229842744524,\n",
       " 0.0028886405970563189,\n",
       " -0.00088310504891865593,\n",
       " -0.0017229247271760562,\n",
       " 0.0018354054680440185,\n",
       " 5.2847201433586788e-05,\n",
       " 0.00025266098486458055,\n",
       " -0.0015782765035374235,\n",
       " -0.001013858281266114,\n",
       " 0.00043159220511908292,\n",
       " -0.00066298000189858597,\n",
       " -0.00051146528777976097,\n",
       " 0.00050039695041720345,\n",
       " -2.9415959948625447e-05,\n",
       " -0.0018399398624473762,\n",
       " -0.0010071862031827972,\n",
       " 0.00023883420844950098,\n",
       " -9.865557508192957e-05,\n",
       " -0.0018879745991146057,\n",
       " -0.0013444048325817054,\n",
       " 4.6081327895644564e-05,\n",
       " 0.0010578190739436999,\n",
       " -9.1336876818920443e-06,\n",
       " -0.0018259459595858507,\n",
       " 0.00057606477545173174,\n",
       " 0.00088579527309506911,\n",
       " 0.0013330977431527946,\n",
       " 0.00047279796948794528,\n",
       " -0.00089006533485350148,\n",
       " 0.002117608610378019,\n",
       " 0.0019525314524890119,\n",
       " 0.0004797224426128649,\n",
       " -0.0016882699594853862,\n",
       " 0.00062421888815215876,\n",
       " -0.0011377706037118962,\n",
       " 0.0012366889008097043,\n",
       " 0.0021108802550219158,\n",
       " 0.00043834102493800486,\n",
       " -0.0003736682062742136,\n",
       " -0.00049776300351357661,\n",
       " 0.0015189329720693701,\n",
       " -0.001254784033611317,\n",
       " -0.00056635116658007578,\n",
       " 0.0016842386497933209,\n",
       " -0.0011102875880720231,\n",
       " -0.00064241634326792085,\n",
       " -0.0010070924077281579,\n",
       " 0.00081003024186207528,\n",
       " 0.00045209447036126393,\n",
       " -0.0023558049149930566,\n",
       " -0.00042180355988369334,\n",
       " 0.0003695891461688583,\n",
       " 0.00071379023133737174,\n",
       " 0.00030105043888754845,\n",
       " 0.00015595881855423599,\n",
       " 0.00096142557994774447,\n",
       " -0.00038050058931636543,\n",
       " -0.00044266906934115058,\n",
       " -0.0028238518131031426,\n",
       " -0.0012064525622330347,\n",
       " 0.0014912760084954402,\n",
       " 0.0028749843578314976,\n",
       " 0.0012505873028446912,\n",
       " -0.00146091858851366,\n",
       " 0.0015397711955763699,\n",
       " -0.0022320665404813311,\n",
       " -0.00076603534174643495,\n",
       " -0.00099306269205667874,\n",
       " -0.00034630115592372557,\n",
       " -0.00059385805742656617,\n",
       " -0.00070426421337498046,\n",
       " 0.00039065077339510423,\n",
       " -0.001371715605659421,\n",
       " 0.00072055269413151546,\n",
       " 0.00092010726103329554,\n",
       " 3.922677501874694e-05,\n",
       " -0.0028101546449526699,\n",
       " -0.0029201242256940013,\n",
       " -0.00080745598297504717,\n",
       " 0.0012915560205190996,\n",
       " -0.001536953068507263,\n",
       " 0.0011335687568295588,\n",
       " 0.00056208281019352879,\n",
       " 0.00023186539565513142,\n",
       " 0.0009546204828560223,\n",
       " 0.0015599988959422301,\n",
       " 0.0015257210154420581,\n",
       " 0.00028002974058695396,\n",
       " -0.00051840851999557236,\n",
       " 0.00074792656596961438,\n",
       " 0.00010787803684562947,\n",
       " -0.00016069615221400713,\n",
       " 0.0010371121640732062,\n",
       " -0.0010550043576183915,\n",
       " -0.00037403486123327445,\n",
       " -0.0019704850394227091,\n",
       " -0.0016815262557821758,\n",
       " -0.0003460317071631025,\n",
       " 0.00046597922942101522,\n",
       " 1.171135731273254e-05,\n",
       " 0.0015120357848949217,\n",
       " -9.8502091610677689e-05,\n",
       " -0.00018088974514179901,\n",
       " -0.00063515420650629706,\n",
       " 0.00051413504749332761,\n",
       " 0.00038327267134409537,\n",
       " 0.0014156457016427648,\n",
       " 0.0016908663882071739,\n",
       " -0.00083468830894523061,\n",
       " -0.0012959522797983403,\n",
       " -0.0002982698300002945,\n",
       " 2.5289149430007818e-05,\n",
       " 8.6971598462534661e-05,\n",
       " 0.0013124044762575088,\n",
       " -0.00014676875885667739,\n",
       " -0.00064900997424370555,\n",
       " 0.00076889951385691879,\n",
       " -0.001626478366651099,\n",
       " -0.0022526796548971856,\n",
       " -0.0036638505554102974,\n",
       " -0.0013989837444395581,\n",
       " -0.0012341299902697972,\n",
       " -0.001185730304015406,\n",
       " 0.001113028973405511,\n",
       " 0.0018076632358749456,\n",
       " 0.0012709582544503661,\n",
       " 0.00092000493871913225,\n",
       " -0.0010206787267049433,\n",
       " 0.0016703555961054689,\n",
       " -0.00059398596031927375,\n",
       " 0.0011682132922887917,\n",
       " -0.00201173343808915,\n",
       " 3.9296695266755055e-05,\n",
       " -0.00082114462426600976,\n",
       " 0.00082392864389706222,\n",
       " 0.0001906681581457792,\n",
       " 0.00068627822437514197,\n",
       " -0.00095869272147376672,\n",
       " 0.00032138216693945731,\n",
       " -0.0011169255587172855,\n",
       " -0.00025673151811039796,\n",
       " -0.0013924276316456263,\n",
       " 0.0019454552012647813,\n",
       " -0.00049766068119941331,\n",
       " 0.0012160826078814607,\n",
       " -0.001481942697558053,\n",
       " 0.0020697529377605717,\n",
       " 0.00064513896951048921,\n",
       " 8.0159679883201607e-05,\n",
       " 0.00030080657070546968,\n",
       " -0.00058737527562445491,\n",
       " 0.0012574333288620648,\n",
       " 0.00083764798188226686,\n",
       " 0.0018630402617832303,\n",
       " -0.00015354656999795602,\n",
       " -0.001220468634929292,\n",
       " -0.00079354734870865085,\n",
       " -0.001358016732137049,\n",
       " -0.00028440894614717438,\n",
       " -0.000758979554985037,\n",
       " 0.00043139438197836721,\n",
       " 0.0010441543078593823,\n",
       " 0.0029505225746014468,\n",
       " 0.00025931259848505084,\n",
       " -0.0019499162646763185,\n",
       " -0.00022904726858602453,\n",
       " ...]"
      ]
     },
     "execution_count": 26,
     "metadata": {},
     "output_type": "execute_result"
    }
   ],
   "source": [
    "# Sampling distribution \n",
    "p_diffs = []\n",
    "for _ in range(10000):\n",
    "    new_page_converted = np.random.choice([0,1],size = n_new, p =[1-p_new, p_new])\n",
    "    p_sim_new = new_page_converted.mean()\n",
    "    old_page_converted = np.random.choice([0,1],size = n_old, p =[1-p_old, p_old])\n",
    "    p_sim_old = old_page_converted.mean()\n",
    "    diff_converted = p_sim_new - p_sim_old\n",
    "    p_diffs.append(diff_converted)\n",
    "p_diffs\n",
    "    \n",
    "    "
   ]
  },
  {
   "cell_type": "markdown",
   "metadata": {},
   "source": [
    "**i. Histogram**<br> \n",
    "Plot a histogram of the **p_diffs**.  Does this plot look like what you expected?  Use the matching problem in the classroom to assure you fully understand what was computed here.<br><br>\n",
    "\n",
    "Also, use `plt.axvline()` method to mark the actual difference observed  in the `df2` data (recall `obs_diff`), in the chart.  \n",
    "\n",
    ">**Tip**: Display title, x-label, and y-label in the chart."
   ]
  },
  {
   "cell_type": "code",
   "execution_count": 27,
   "metadata": {},
   "outputs": [
    {
     "data": {
      "text/plain": [
       "Text(0,0.5,'Frequency of occurence')"
      ]
     },
     "execution_count": 27,
     "metadata": {},
     "output_type": "execute_result"
    },
    {
     "data": {
      "image/png": "[encoded data removed]",
      "text/plain": [
       "<matplotlib.figure.Figure at 0x7f3c72d1c898>"
      ]
     },
     "metadata": {
      "needs_background": "light"
     },
     "output_type": "display_data"
    }
   ],
   "source": [
    "plt.hist(p_diffs)\n",
    "plt.axvline(x=obs_diff, color = 'red')\n",
    "plt.title(\"Simulation of difference in distribution between control and treatment groups\")\n",
    "plt.xlabel(\"Difference\")\n",
    "plt.ylabel(\"Frequency of occurence\")"
   ]
  },
  {
   "cell_type": "markdown",
   "metadata": {},
   "source": [
    "**j.** What proportion of the **p_diffs** are greater than the actual difference observed in the `df2` data?"
   ]
  },
  {
   "cell_type": "code",
   "execution_count": 28,
   "metadata": {},
   "outputs": [
    {
     "data": {
      "text/plain": [
       "0.90349999999999997"
      ]
     },
     "execution_count": 28,
     "metadata": {},
     "output_type": "execute_result"
    }
   ],
   "source": [
    "(p_diffs>obs_diff).mean()"
   ]
  },
  {
   "cell_type": "markdown",
   "metadata": {},
   "source": [
    "**k.** Please explain in words what you have just computed in part **j** above.  \n",
    " - What is this value called in scientific studies?  \n",
    " - What does this value signify in terms of whether or not there is a difference between the new and old pages? *Hint*: Compare the value above with the \"Type I error rate (0.05)\". "
   ]
  },
  {
   "cell_type": "markdown",
   "metadata": {},
   "source": [
    ">**We calculated the P value, which indicates the conditional probability that our null hypothesis is true which is the old page is at least the same or better in conversion rate. <br>\n",
    "It is obvious with more than 90% probability (which is much more than type I error rate of 5%, that the old page is better**"
   ]
  },
  {
   "cell_type": "markdown",
   "metadata": {},
   "source": [
    "\n",
    "\n",
    "**l. Using Built-in Methods for Hypothesis Testing**<br>\n",
    "We could also use a built-in to achieve similar results.  Though using the built-in might be easier to code, the above portions are a walkthrough of the ideas that are critical to correctly thinking about statistical significance. \n",
    "\n",
    "Fill in the statements below to calculate the:\n",
    "- `convert_old`: number of conversions with the old_page\n",
    "- `convert_new`: number of conversions with the new_page\n",
    "- `n_old`: number of individuals who were shown the old_page\n",
    "- `n_new`: number of individuals who were shown the new_page\n"
   ]
  },
  {
   "cell_type": "code",
   "execution_count": 29,
   "metadata": {},
   "outputs": [
    {
     "name": "stderr",
     "output_type": "stream",
     "text": [
      "/opt/conda/lib/python3.6/site-packages/statsmodels/compat/pandas.py:56: FutureWarning: The pandas.core.datetools module is deprecated and will be removed in a future version. Please use the pandas.tseries module instead.\n",
      "  from pandas.core import datetools\n"
     ]
    },
    {
     "name": "stdout",
     "output_type": "stream",
     "text": [
      "17489\n",
      "17264\n",
      "145274\n",
      "145310\n"
     ]
    }
   ],
   "source": [
    "import statsmodels.api as sm\n",
    "\n",
    "# number of conversions with the old_page\n",
    "convert_old = df_cont['converted'].sum()\n",
    "print(convert_old)\n",
    "# number of conversions with the new_page\n",
    "convert_new = df_treat['converted'].sum()\n",
    "print(convert_new)\n",
    "\n",
    "# number of individuals who were shown the old_page\n",
    "n_old \n",
    "print(n_old)\n",
    "# number of individuals who received new_page\n",
    "n_new \n",
    "print(n_new)"
   ]
  },
  {
   "cell_type": "markdown",
   "metadata": {},
   "source": [
    "**m.** Now use `sm.stats.proportions_ztest()` to compute your test statistic and p-value.  [Here](https://www.statsmodels.org/stable/generated/statsmodels.stats.proportion.proportions_ztest.html) is a helpful link on using the built in.\n",
    "\n",
    "The syntax is: \n",
    "```bash\n",
    "proportions_ztest(count_array, nobs_array, alternative='larger')\n",
    "```\n",
    "where, \n",
    "- `count_array` = represents the number of \"converted\" for each group\n",
    "- `nobs_array` = represents the total number of observations (rows) in each group\n",
    "- `alternative` = choose one of the values from `[‘two-sided’, ‘smaller’, ‘larger’]` depending upon two-tailed, left-tailed, or right-tailed respectively. \n",
    ">**Hint**: <br>\n",
    "It's a two-tailed if you defined $H_1$ as $(p_{new} = p_{old})$. <br>\n",
    "It's a left-tailed if you defined $H_1$ as $(p_{new} < p_{old})$. <br>\n",
    "It's a right-tailed if you defined $H_1$ as $(p_{new} > p_{old})$. \n",
    "\n",
    "The built-in function above will return the z_score, p_value. \n",
    "\n",
    "---\n",
    "### About the two-sample z-test\n",
    "Recall that you have plotted a distribution `p_diffs` representing the\n",
    "difference in the \"converted\" probability  $(p{'}_{new}-p{'}_{old})$  for your two simulated samples 10,000 times. \n",
    "\n",
    "Another way for comparing the mean of two independent and normal distribution is a **two-sample z-test**. You can perform the Z-test to calculate the Z_score, as shown in the equation below:\n",
    "\n",
    "$$\n",
    "Z_{score} = \\frac{ (p{'}_{new}-p{'}_{old}) - (p_{new}  -  p_{old})}{ \\sqrt{ \\frac{\\sigma^{2}_{new} }{n_{new}} + \\frac{\\sigma^{2}_{old} }{n_{old}}  } }\n",
    "$$\n",
    "\n",
    "where,\n",
    "- $p{'}$ is the \"converted\" success rate in the sample\n",
    "- $p_{new}$ and $p_{old}$ are the \"converted\" success rate for the two groups in the population. \n",
    "- $\\sigma_{new}$ and $\\sigma_{new}$ are the standard deviation for the two groups in the population. \n",
    "- $n_{new}$ and $n_{old}$ represent the size of the two groups or samples (it's same in our case)\n",
    "\n",
    "\n",
    ">Z-test is performed when the sample size is large, and the population variance is known. The z-score represents the distance between the two \"converted\" success rates in terms of the standard error. \n",
    "\n",
    "Next step is to make a decision to reject or fail to reject the null hypothesis based on comparing these two values: \n",
    "- $Z_{score}$\n",
    "- $Z_{\\alpha}$ or $Z_{0.05}$, also known as critical value at 95% confidence interval.  $Z_{0.05}$ is 1.645 for one-tailed tests,  and 1.960 for two-tailed test. You can determine the $Z_{\\alpha}$ from the z-table manually. \n",
    "\n",
    "Decide if your hypothesis is either a two-tailed, left-tailed, or right-tailed test. Accordingly, reject OR fail to reject the  null based on the comparison between $Z_{score}$ and $Z_{\\alpha}$. We determine whether or not the $Z_{score}$ lies in the \"rejection region\" in the distribution. In other words, a \"rejection region\" is an interval where the null hypothesis is rejected iff the $Z_{score}$ lies in that region.\n",
    "\n",
    ">Hint:<br>\n",
    "For a right-tailed test, reject null if $Z_{score}$ > $Z_{\\alpha}$. <br>\n",
    "For a left-tailed test, reject null if $Z_{score}$ < $Z_{\\alpha}$. \n",
    "\n",
    "\n",
    "\n",
    "\n",
    "Reference: \n",
    "- Example 9.1.2 on this [page](https://stats.libretexts.org/Bookshelves/Introductory_Statistics/Book%3A_Introductory_Statistics_(Shafer_and_Zhang)/09%3A_Two-Sample_Problems/9.01%3A_Comparison_of_Two_Population_Means-_Large_Independent_Samples), courtesy www.stats.libretexts.org\n",
    "\n",
    "---\n",
    "\n",
    ">**Tip**: You don't have to dive deeper into z-test for this exercise. **Try having an overview of what does z-score signify in general.** "
   ]
  },
  {
   "cell_type": "code",
   "execution_count": 30,
   "metadata": {},
   "outputs": [
    {
     "name": "stdout",
     "output_type": "stream",
     "text": [
      "-1.31092419842 0.905058312759\n"
     ]
    }
   ],
   "source": [
    "import statsmodels.api as sm\n",
    "# ToDo: Complete the sm.stats.proportions_ztest() method arguments\n",
    "z_score, p_value = sm.stats.proportions_ztest([convert_new,convert_old] , [n_new,n_old], alternative='larger' )\n",
    "print(z_score, p_value)"
   ]
  },
  {
   "cell_type": "markdown",
   "metadata": {},
   "source": [
    "**n.** What do the z-score and p-value you computed in the previous question mean for the conversion rates of the old and new pages?  Do they agree with the findings in parts **j.** and **k.**?<br><br>\n",
    "\n",
    ">**Tip**: Notice whether the p-value is similar to the one computed earlier. Accordingly, can you reject/fail to reject the null hypothesis? It is important to correctly interpret the test statistic and p-value."
   ]
  },
  {
   "cell_type": "markdown",
   "metadata": {},
   "source": [
    ">**We accept the null hypothesis as the value of p is larger than the 0.05 type 1 error**"
   ]
  },
  {
   "cell_type": "markdown",
   "metadata": {},
   "source": [
    "<a id='regression'></a>\n",
    "### Part III - A regression approach\n",
    "\n",
    "### ToDo 3.1 \n",
    "In this final part, you will see that the result you achieved in the A/B test in Part II above can also be achieved by performing regression.<br><br> \n",
    "\n",
    "**a.** Since each row in the `df2` data is either a conversion or no conversion, what type of regression should you be performing in this case?"
   ]
  },
  {
   "cell_type": "markdown",
   "metadata": {},
   "source": [
    ">**A logistic regression should be used**"
   ]
  },
  {
   "cell_type": "markdown",
   "metadata": {},
   "source": [
    "**b.** The goal is to use **statsmodels** library to fit the regression model you specified in part **a.** above to see if there is a significant difference in conversion based on the page-type a customer receives. However, you first need to create the following two columns in the `df2` dataframe:\n",
    " 1. `intercept` - It should be `1` in the entire column. \n",
    " 2. `ab_page` - It's a dummy variable column, having a value `1` when an individual receives the **treatment**, otherwise `0`.  "
   ]
  },
  {
   "cell_type": "code",
   "execution_count": 31,
   "metadata": {},
   "outputs": [
    {
     "data": {
      "text/html": [
       "<div>\n",
       "<style scoped>\n",
       "    .dataframe tbody tr th:only-of-type {\n",
       "        vertical-align: middle;\n",
       "    }\n",
       "\n",
       "    .dataframe tbody tr th {\n",
       "        vertical-align: top;\n",
       "    }\n",
       "\n",
       "    .dataframe thead th {\n",
       "        text-align: right;\n",
       "    }\n",
       "</style>\n",
       "<table border=\"1\" class=\"dataframe\">\n",
       "  <thead>\n",
       "    <tr style=\"text-align: right;\">\n",
       "      <th></th>\n",
       "      <th>user_id</th>\n",
       "      <th>timestamp</th>\n",
       "      <th>group</th>\n",
       "      <th>landing_page</th>\n",
       "      <th>converted</th>\n",
       "      <th>intercept</th>\n",
       "      <th>ab_page</th>\n",
       "    </tr>\n",
       "  </thead>\n",
       "  <tbody>\n",
       "    <tr>\n",
       "      <th>0</th>\n",
       "      <td>851104</td>\n",
       "      <td>2017-01-21 22:11:48.556739</td>\n",
       "      <td>control</td>\n",
       "      <td>old_page</td>\n",
       "      <td>0</td>\n",
       "      <td>1</td>\n",
       "      <td>0</td>\n",
       "    </tr>\n",
       "    <tr>\n",
       "      <th>1</th>\n",
       "      <td>804228</td>\n",
       "      <td>2017-01-12 08:01:45.159739</td>\n",
       "      <td>control</td>\n",
       "      <td>old_page</td>\n",
       "      <td>0</td>\n",
       "      <td>1</td>\n",
       "      <td>0</td>\n",
       "    </tr>\n",
       "    <tr>\n",
       "      <th>2</th>\n",
       "      <td>661590</td>\n",
       "      <td>2017-01-11 16:55:06.154213</td>\n",
       "      <td>treatment</td>\n",
       "      <td>new_page</td>\n",
       "      <td>0</td>\n",
       "      <td>1</td>\n",
       "      <td>1</td>\n",
       "    </tr>\n",
       "    <tr>\n",
       "      <th>3</th>\n",
       "      <td>853541</td>\n",
       "      <td>2017-01-08 18:28:03.143765</td>\n",
       "      <td>treatment</td>\n",
       "      <td>new_page</td>\n",
       "      <td>0</td>\n",
       "      <td>1</td>\n",
       "      <td>1</td>\n",
       "    </tr>\n",
       "    <tr>\n",
       "      <th>4</th>\n",
       "      <td>864975</td>\n",
       "      <td>2017-01-21 01:52:26.210827</td>\n",
       "      <td>control</td>\n",
       "      <td>old_page</td>\n",
       "      <td>1</td>\n",
       "      <td>1</td>\n",
       "      <td>0</td>\n",
       "    </tr>\n",
       "  </tbody>\n",
       "</table>\n",
       "</div>"
      ],
      "text/plain": [
       "   user_id                   timestamp      group landing_page  converted  \\\n",
       "0   851104  2017-01-21 22:11:48.556739    control     old_page          0   \n",
       "1   804228  2017-01-12 08:01:45.159739    control     old_page          0   \n",
       "2   661590  2017-01-11 16:55:06.154213  treatment     new_page          0   \n",
       "3   853541  2017-01-08 18:28:03.143765  treatment     new_page          0   \n",
       "4   864975  2017-01-21 01:52:26.210827    control     old_page          1   \n",
       "\n",
       "   intercept  ab_page  \n",
       "0          1        0  \n",
       "1          1        0  \n",
       "2          1        1  \n",
       "3          1        1  \n",
       "4          1        0  "
      ]
     },
     "execution_count": 31,
     "metadata": {},
     "output_type": "execute_result"
    }
   ],
   "source": [
    "df2['intercept']=1\n",
    "df2['ab_page']=0\n",
    "df2.loc[(df2['group'] == 'treatment'),'ab_page']=1\n",
    "df2.head()\n"
   ]
  },
  {
   "cell_type": "markdown",
   "metadata": {},
   "source": [
    "**c.** Use **statsmodels** to instantiate your regression model on the two columns you created in part (b). above, then fit the model to predict whether or not an individual converts. \n"
   ]
  },
  {
   "cell_type": "code",
   "execution_count": 38,
   "metadata": {},
   "outputs": [],
   "source": [
    "log_mod = sm.Logit(df2['converted'],df2[['intercept','ab_page']])"
   ]
  },
  {
   "cell_type": "markdown",
   "metadata": {},
   "source": [
    "**d.** Provide the summary of your model below, and use it as necessary to answer the following questions."
   ]
  },
  {
   "cell_type": "code",
   "execution_count": 41,
   "metadata": {},
   "outputs": [
    {
     "name": "stdout",
     "output_type": "stream",
     "text": [
      "Optimization terminated successfully.\n",
      "         Current function value: 0.366118\n",
      "         Iterations 6\n"
     ]
    },
    {
     "data": {
      "text/html": [
       "<table class=\"simpletable\">\n",
       "<tr>\n",
       "        <td>Model:</td>              <td>Logit</td>       <td>No. Iterations:</td>    <td>6.0000</td>   \n",
       "</tr>\n",
       "<tr>\n",
       "  <td>Dependent Variable:</td>     <td>converted</td>    <td>Pseudo R-squared:</td>    <td>0.000</td>   \n",
       "</tr>\n",
       "<tr>\n",
       "         <td>Date:</td>        <td>2023-02-17 18:30</td>       <td>AIC:</td>        <td>212780.3502</td>\n",
       "</tr>\n",
       "<tr>\n",
       "   <td>No. Observations:</td>       <td>290584</td>            <td>BIC:</td>        <td>212801.5095</td>\n",
       "</tr>\n",
       "<tr>\n",
       "       <td>Df Model:</td>              <td>1</td>         <td>Log-Likelihood:</td>  <td>-1.0639e+05</td>\n",
       "</tr>\n",
       "<tr>\n",
       "     <td>Df Residuals:</td>         <td>290582</td>          <td>LL-Null:</td>      <td>-1.0639e+05</td>\n",
       "</tr>\n",
       "<tr>\n",
       "      <td>Converged:</td>           <td>1.0000</td>           <td>Scale:</td>         <td>1.0000</td>   \n",
       "</tr>\n",
       "</table>\n",
       "<table class=\"simpletable\">\n",
       "<tr>\n",
       "      <td></td>       <th>Coef.</th>  <th>Std.Err.</th>     <th>z</th>      <th>P>|z|</th> <th>[0.025</th>  <th>0.975]</th> \n",
       "</tr>\n",
       "<tr>\n",
       "  <th>intercept</th> <td>-1.9888</td>  <td>0.0081</td>  <td>-246.6690</td> <td>0.0000</td> <td>-2.0046</td> <td>-1.9730</td>\n",
       "</tr>\n",
       "<tr>\n",
       "  <th>ab_page</th>   <td>-0.0150</td>  <td>0.0114</td>   <td>-1.3109</td>  <td>0.1899</td> <td>-0.0374</td> <td>0.0074</td> \n",
       "</tr>\n",
       "</table>"
      ],
      "text/plain": [
       "<class 'statsmodels.iolib.summary2.Summary'>\n",
       "\"\"\"\n",
       "                          Results: Logit\n",
       "==================================================================\n",
       "Model:              Logit            No. Iterations:   6.0000     \n",
       "Dependent Variable: converted        Pseudo R-squared: 0.000      \n",
       "Date:               2023-02-17 18:30 AIC:              212780.3502\n",
       "No. Observations:   290584           BIC:              212801.5095\n",
       "Df Model:           1                Log-Likelihood:   -1.0639e+05\n",
       "Df Residuals:       290582           LL-Null:          -1.0639e+05\n",
       "Converged:          1.0000           Scale:            1.0000     \n",
       "-------------------------------------------------------------------\n",
       "              Coef.   Std.Err.      z      P>|z|    [0.025   0.975]\n",
       "-------------------------------------------------------------------\n",
       "intercept    -1.9888    0.0081  -246.6690  0.0000  -2.0046  -1.9730\n",
       "ab_page      -0.0150    0.0114    -1.3109  0.1899  -0.0374   0.0074\n",
       "==================================================================\n",
       "\n",
       "\"\"\""
      ]
     },
     "execution_count": 41,
     "metadata": {},
     "output_type": "execute_result"
    }
   ],
   "source": [
    "results = log_mod.fit()\n",
    "results.summary2()"
   ]
  },
  {
   "cell_type": "markdown",
   "metadata": {},
   "source": [
    "**e.** What is the p-value associated with **ab_page**? Why does it differ from the value you found in **Part II**?<br><br>  \n",
    "\n",
    "**Hints**: \n",
    "- What are the null and alternative hypotheses associated with your regression model, and how do they compare to the null and alternative hypotheses in **Part II**? \n",
    "- You may comment on if these hypothesis (Part II vs. Part III) are one-sided or two-sided. \n",
    "- You may also compare the current p-value with the Type I error rate (0.05).\n"
   ]
  },
  {
   "cell_type": "markdown",
   "metadata": {},
   "source": [
    ">**In the regression, the null hypothesis is represented as equal and not equal only, so it is always a two sided hypothesis.  <br>The P value here is 0.190, it differs from the value before as the previous hypothsis was one-sided while the current one is two sided**"
   ]
  },
  {
   "cell_type": "markdown",
   "metadata": {},
   "source": [
    "**f.** Now, you are considering other things that might influence whether or not an individual converts.  Discuss why it is a good idea to consider other factors to add into your regression model.  Are there any disadvantages to adding additional terms into your regression model?"
   ]
  },
  {
   "cell_type": "markdown",
   "metadata": {},
   "source": [
    "**Because there is not a significant evidence that the website changes the conversion rate significantly, so other factors should be introduced in the analysis**"
   ]
  },
  {
   "cell_type": "markdown",
   "metadata": {},
   "source": [
    "**g. Adding countries**<br> \n",
    "Now along with testing if the conversion rate changes for different pages, also add an effect based on which country a user lives in. \n",
    "\n",
    "1. You will need to read in the **countries.csv** dataset and merge together your `df2` datasets on the appropriate rows. You call the resulting dataframe `df_merged`. [Here](https://pandas.pydata.org/pandas-docs/stable/reference/api/pandas.DataFrame.join.html) are the docs for joining tables. \n",
    "\n",
    "2. Does it appear that country had an impact on conversion?  To answer this question, consider the three unique values, `['UK', 'US', 'CA']`, in the `country` column. Create dummy variables for these country columns. \n",
    ">**Hint:** Use `pandas.get_dummies()` to create dummy variables. **You will utilize two columns for the three dummy variables.** \n",
    "\n",
    " Provide the statistical output as well as a written response to answer this question."
   ]
  },
  {
   "cell_type": "code",
   "execution_count": 42,
   "metadata": {},
   "outputs": [
    {
     "data": {
      "text/html": [
       "<div>\n",
       "<style scoped>\n",
       "    .dataframe tbody tr th:only-of-type {\n",
       "        vertical-align: middle;\n",
       "    }\n",
       "\n",
       "    .dataframe tbody tr th {\n",
       "        vertical-align: top;\n",
       "    }\n",
       "\n",
       "    .dataframe thead th {\n",
       "        text-align: right;\n",
       "    }\n",
       "</style>\n",
       "<table border=\"1\" class=\"dataframe\">\n",
       "  <thead>\n",
       "    <tr style=\"text-align: right;\">\n",
       "      <th></th>\n",
       "      <th>user_id</th>\n",
       "      <th>country</th>\n",
       "    </tr>\n",
       "  </thead>\n",
       "  <tbody>\n",
       "    <tr>\n",
       "      <th>0</th>\n",
       "      <td>834778</td>\n",
       "      <td>UK</td>\n",
       "    </tr>\n",
       "    <tr>\n",
       "      <th>1</th>\n",
       "      <td>928468</td>\n",
       "      <td>US</td>\n",
       "    </tr>\n",
       "    <tr>\n",
       "      <th>2</th>\n",
       "      <td>822059</td>\n",
       "      <td>UK</td>\n",
       "    </tr>\n",
       "    <tr>\n",
       "      <th>3</th>\n",
       "      <td>711597</td>\n",
       "      <td>UK</td>\n",
       "    </tr>\n",
       "    <tr>\n",
       "      <th>4</th>\n",
       "      <td>710616</td>\n",
       "      <td>UK</td>\n",
       "    </tr>\n",
       "  </tbody>\n",
       "</table>\n",
       "</div>"
      ],
      "text/plain": [
       "   user_id country\n",
       "0   834778      UK\n",
       "1   928468      US\n",
       "2   822059      UK\n",
       "3   711597      UK\n",
       "4   710616      UK"
      ]
     },
     "execution_count": 42,
     "metadata": {},
     "output_type": "execute_result"
    }
   ],
   "source": [
    "# Read the countries.csv\n",
    "countries = pd.read_csv('countries.csv')\n",
    "countries.head()"
   ]
  },
  {
   "cell_type": "code",
   "execution_count": 43,
   "metadata": {},
   "outputs": [
    {
     "data": {
      "text/html": [
       "<div>\n",
       "<style scoped>\n",
       "    .dataframe tbody tr th:only-of-type {\n",
       "        vertical-align: middle;\n",
       "    }\n",
       "\n",
       "    .dataframe tbody tr th {\n",
       "        vertical-align: top;\n",
       "    }\n",
       "\n",
       "    .dataframe thead th {\n",
       "        text-align: right;\n",
       "    }\n",
       "</style>\n",
       "<table border=\"1\" class=\"dataframe\">\n",
       "  <thead>\n",
       "    <tr style=\"text-align: right;\">\n",
       "      <th></th>\n",
       "      <th>user_id</th>\n",
       "      <th>timestamp</th>\n",
       "      <th>group</th>\n",
       "      <th>landing_page</th>\n",
       "      <th>converted</th>\n",
       "      <th>intercept</th>\n",
       "      <th>ab_page</th>\n",
       "      <th>country</th>\n",
       "    </tr>\n",
       "  </thead>\n",
       "  <tbody>\n",
       "    <tr>\n",
       "      <th>0</th>\n",
       "      <td>851104</td>\n",
       "      <td>2017-01-21 22:11:48.556739</td>\n",
       "      <td>control</td>\n",
       "      <td>old_page</td>\n",
       "      <td>0</td>\n",
       "      <td>1</td>\n",
       "      <td>0</td>\n",
       "      <td>US</td>\n",
       "    </tr>\n",
       "    <tr>\n",
       "      <th>1</th>\n",
       "      <td>804228</td>\n",
       "      <td>2017-01-12 08:01:45.159739</td>\n",
       "      <td>control</td>\n",
       "      <td>old_page</td>\n",
       "      <td>0</td>\n",
       "      <td>1</td>\n",
       "      <td>0</td>\n",
       "      <td>US</td>\n",
       "    </tr>\n",
       "    <tr>\n",
       "      <th>2</th>\n",
       "      <td>661590</td>\n",
       "      <td>2017-01-11 16:55:06.154213</td>\n",
       "      <td>treatment</td>\n",
       "      <td>new_page</td>\n",
       "      <td>0</td>\n",
       "      <td>1</td>\n",
       "      <td>1</td>\n",
       "      <td>US</td>\n",
       "    </tr>\n",
       "    <tr>\n",
       "      <th>3</th>\n",
       "      <td>853541</td>\n",
       "      <td>2017-01-08 18:28:03.143765</td>\n",
       "      <td>treatment</td>\n",
       "      <td>new_page</td>\n",
       "      <td>0</td>\n",
       "      <td>1</td>\n",
       "      <td>1</td>\n",
       "      <td>US</td>\n",
       "    </tr>\n",
       "    <tr>\n",
       "      <th>4</th>\n",
       "      <td>864975</td>\n",
       "      <td>2017-01-21 01:52:26.210827</td>\n",
       "      <td>control</td>\n",
       "      <td>old_page</td>\n",
       "      <td>1</td>\n",
       "      <td>1</td>\n",
       "      <td>0</td>\n",
       "      <td>US</td>\n",
       "    </tr>\n",
       "  </tbody>\n",
       "</table>\n",
       "</div>"
      ],
      "text/plain": [
       "   user_id                   timestamp      group landing_page  converted  \\\n",
       "0   851104  2017-01-21 22:11:48.556739    control     old_page          0   \n",
       "1   804228  2017-01-12 08:01:45.159739    control     old_page          0   \n",
       "2   661590  2017-01-11 16:55:06.154213  treatment     new_page          0   \n",
       "3   853541  2017-01-08 18:28:03.143765  treatment     new_page          0   \n",
       "4   864975  2017-01-21 01:52:26.210827    control     old_page          1   \n",
       "\n",
       "   intercept  ab_page country  \n",
       "0          1        0      US  \n",
       "1          1        0      US  \n",
       "2          1        1      US  \n",
       "3          1        1      US  \n",
       "4          1        0      US  "
      ]
     },
     "execution_count": 43,
     "metadata": {},
     "output_type": "execute_result"
    }
   ],
   "source": [
    "# Join with the df2 dataframe\n",
    "df_merged = pd.merge(df2,countries, on = 'user_id')\n",
    "df_merged.head()"
   ]
  },
  {
   "cell_type": "code",
   "execution_count": 44,
   "metadata": {},
   "outputs": [
    {
     "data": {
      "text/html": [
       "<div>\n",
       "<style scoped>\n",
       "    .dataframe tbody tr th:only-of-type {\n",
       "        vertical-align: middle;\n",
       "    }\n",
       "\n",
       "    .dataframe tbody tr th {\n",
       "        vertical-align: top;\n",
       "    }\n",
       "\n",
       "    .dataframe thead th {\n",
       "        text-align: right;\n",
       "    }\n",
       "</style>\n",
       "<table border=\"1\" class=\"dataframe\">\n",
       "  <thead>\n",
       "    <tr style=\"text-align: right;\">\n",
       "      <th></th>\n",
       "      <th>user_id</th>\n",
       "      <th>timestamp</th>\n",
       "      <th>group</th>\n",
       "      <th>landing_page</th>\n",
       "      <th>converted</th>\n",
       "      <th>intercept</th>\n",
       "      <th>ab_page</th>\n",
       "      <th>country</th>\n",
       "      <th>CA</th>\n",
       "      <th>UK</th>\n",
       "      <th>US</th>\n",
       "      <th>ab_page_US</th>\n",
       "      <th>ab_page_UK</th>\n",
       "    </tr>\n",
       "  </thead>\n",
       "  <tbody>\n",
       "    <tr>\n",
       "      <th>0</th>\n",
       "      <td>851104</td>\n",
       "      <td>2017-01-21 22:11:48.556739</td>\n",
       "      <td>control</td>\n",
       "      <td>old_page</td>\n",
       "      <td>0</td>\n",
       "      <td>1</td>\n",
       "      <td>0</td>\n",
       "      <td>US</td>\n",
       "      <td>0</td>\n",
       "      <td>0</td>\n",
       "      <td>1</td>\n",
       "      <td>0</td>\n",
       "      <td>0</td>\n",
       "    </tr>\n",
       "    <tr>\n",
       "      <th>1</th>\n",
       "      <td>804228</td>\n",
       "      <td>2017-01-12 08:01:45.159739</td>\n",
       "      <td>control</td>\n",
       "      <td>old_page</td>\n",
       "      <td>0</td>\n",
       "      <td>1</td>\n",
       "      <td>0</td>\n",
       "      <td>US</td>\n",
       "      <td>0</td>\n",
       "      <td>0</td>\n",
       "      <td>1</td>\n",
       "      <td>0</td>\n",
       "      <td>0</td>\n",
       "    </tr>\n",
       "    <tr>\n",
       "      <th>2</th>\n",
       "      <td>661590</td>\n",
       "      <td>2017-01-11 16:55:06.154213</td>\n",
       "      <td>treatment</td>\n",
       "      <td>new_page</td>\n",
       "      <td>0</td>\n",
       "      <td>1</td>\n",
       "      <td>1</td>\n",
       "      <td>US</td>\n",
       "      <td>0</td>\n",
       "      <td>0</td>\n",
       "      <td>1</td>\n",
       "      <td>1</td>\n",
       "      <td>0</td>\n",
       "    </tr>\n",
       "    <tr>\n",
       "      <th>3</th>\n",
       "      <td>853541</td>\n",
       "      <td>2017-01-08 18:28:03.143765</td>\n",
       "      <td>treatment</td>\n",
       "      <td>new_page</td>\n",
       "      <td>0</td>\n",
       "      <td>1</td>\n",
       "      <td>1</td>\n",
       "      <td>US</td>\n",
       "      <td>0</td>\n",
       "      <td>0</td>\n",
       "      <td>1</td>\n",
       "      <td>1</td>\n",
       "      <td>0</td>\n",
       "    </tr>\n",
       "    <tr>\n",
       "      <th>4</th>\n",
       "      <td>864975</td>\n",
       "      <td>2017-01-21 01:52:26.210827</td>\n",
       "      <td>control</td>\n",
       "      <td>old_page</td>\n",
       "      <td>1</td>\n",
       "      <td>1</td>\n",
       "      <td>0</td>\n",
       "      <td>US</td>\n",
       "      <td>0</td>\n",
       "      <td>0</td>\n",
       "      <td>1</td>\n",
       "      <td>0</td>\n",
       "      <td>0</td>\n",
       "    </tr>\n",
       "  </tbody>\n",
       "</table>\n",
       "</div>"
      ],
      "text/plain": [
       "   user_id                   timestamp      group landing_page  converted  \\\n",
       "0   851104  2017-01-21 22:11:48.556739    control     old_page          0   \n",
       "1   804228  2017-01-12 08:01:45.159739    control     old_page          0   \n",
       "2   661590  2017-01-11 16:55:06.154213  treatment     new_page          0   \n",
       "3   853541  2017-01-08 18:28:03.143765  treatment     new_page          0   \n",
       "4   864975  2017-01-21 01:52:26.210827    control     old_page          1   \n",
       "\n",
       "   intercept  ab_page country  CA  UK  US  ab_page_US  ab_page_UK  \n",
       "0          1        0      US   0   0   1           0           0  \n",
       "1          1        0      US   0   0   1           0           0  \n",
       "2          1        1      US   0   0   1           1           0  \n",
       "3          1        1      US   0   0   1           1           0  \n",
       "4          1        0      US   0   0   1           0           0  "
      ]
     },
     "execution_count": 44,
     "metadata": {},
     "output_type": "execute_result"
    }
   ],
   "source": [
    "# Create the necessary dummy variables\n",
    "df_merged[['CA','UK','US']] = pd.get_dummies(df_merged['country'])\n",
    "df_merged['ab_page_US'] = df_merged['ab_page'] * df_merged['US']\n",
    "df_merged['ab_page_UK'] = df_merged['ab_page'] * df_merged['UK']\n",
    "df_merged.head()"
   ]
  },
  {
   "cell_type": "markdown",
   "metadata": {},
   "source": [
    "**h. Fit your model and obtain the results**<br> \n",
    "Though you have now looked at the individual factors of country and page on conversion, we would now like to look at an interaction between page and country to see if are there significant effects on conversion.  **Create the necessary additional columns, and fit the new model.** \n",
    "\n",
    "\n",
    "Provide the summary results (statistical output), and your conclusions (written response) based on the results. \n",
    "\n",
    ">**Tip**: Conclusions should include both statistical reasoning, and practical reasoning for the situation. \n",
    "\n",
    ">**Hints**: \n",
    "- Look at all of p-values in the summary, and compare against the Type I error rate (0.05). \n",
    "- Can you reject/fail to reject the null hypotheses (regression model)?\n",
    "- Comment on the effect of page and country to predict the conversion.\n"
   ]
  },
  {
   "cell_type": "code",
   "execution_count": 47,
   "metadata": {},
   "outputs": [
    {
     "name": "stdout",
     "output_type": "stream",
     "text": [
      "Optimization terminated successfully.\n",
      "         Current function value: 0.366109\n",
      "         Iterations 6\n"
     ]
    },
    {
     "data": {
      "text/html": [
       "<table class=\"simpletable\">\n",
       "<tr>\n",
       "        <td>Model:</td>              <td>Logit</td>       <td>No. Iterations:</td>    <td>6.0000</td>   \n",
       "</tr>\n",
       "<tr>\n",
       "  <td>Dependent Variable:</td>     <td>converted</td>    <td>Pseudo R-squared:</td>    <td>0.000</td>   \n",
       "</tr>\n",
       "<tr>\n",
       "         <td>Date:</td>        <td>2023-02-17 18:31</td>       <td>AIC:</td>        <td>212782.6602</td>\n",
       "</tr>\n",
       "<tr>\n",
       "   <td>No. Observations:</td>       <td>290584</td>            <td>BIC:</td>        <td>212846.1381</td>\n",
       "</tr>\n",
       "<tr>\n",
       "       <td>Df Model:</td>              <td>5</td>         <td>Log-Likelihood:</td>  <td>-1.0639e+05</td>\n",
       "</tr>\n",
       "<tr>\n",
       "     <td>Df Residuals:</td>         <td>290578</td>          <td>LL-Null:</td>      <td>-1.0639e+05</td>\n",
       "</tr>\n",
       "<tr>\n",
       "      <td>Converged:</td>           <td>1.0000</td>           <td>Scale:</td>         <td>1.0000</td>   \n",
       "</tr>\n",
       "</table>\n",
       "<table class=\"simpletable\">\n",
       "<tr>\n",
       "       <td></td>       <th>Coef.</th>  <th>Std.Err.</th>     <th>z</th>     <th>P>|z|</th> <th>[0.025</th>  <th>0.975]</th> \n",
       "</tr>\n",
       "<tr>\n",
       "  <th>intercept</th>  <td>-2.0040</td>  <td>0.0364</td>  <td>-55.0077</td> <td>0.0000</td> <td>-2.0754</td> <td>-1.9326</td>\n",
       "</tr>\n",
       "<tr>\n",
       "  <th>ab_page</th>    <td>-0.0674</td>  <td>0.0520</td>   <td>-1.2967</td> <td>0.1947</td> <td>-0.1694</td> <td>0.0345</td> \n",
       "</tr>\n",
       "<tr>\n",
       "  <th>US</th>         <td>0.0175</td>   <td>0.0377</td>   <td>0.4652</td>  <td>0.6418</td> <td>-0.0563</td> <td>0.0914</td> \n",
       "</tr>\n",
       "<tr>\n",
       "  <th>UK</th>         <td>0.0118</td>   <td>0.0398</td>   <td>0.2957</td>  <td>0.7674</td> <td>-0.0663</td> <td>0.0899</td> \n",
       "</tr>\n",
       "<tr>\n",
       "  <th>ab_page_US</th> <td>0.0469</td>   <td>0.0538</td>   <td>0.8718</td>  <td>0.3833</td> <td>-0.0585</td> <td>0.1523</td> \n",
       "</tr>\n",
       "<tr>\n",
       "  <th>ab_page_UK</th> <td>0.0783</td>   <td>0.0568</td>   <td>1.3783</td>  <td>0.1681</td> <td>-0.0330</td> <td>0.1896</td> \n",
       "</tr>\n",
       "</table>"
      ],
      "text/plain": [
       "<class 'statsmodels.iolib.summary2.Summary'>\n",
       "\"\"\"\n",
       "                          Results: Logit\n",
       "==================================================================\n",
       "Model:              Logit            No. Iterations:   6.0000     \n",
       "Dependent Variable: converted        Pseudo R-squared: 0.000      \n",
       "Date:               2023-02-17 18:31 AIC:              212782.6602\n",
       "No. Observations:   290584           BIC:              212846.1381\n",
       "Df Model:           5                Log-Likelihood:   -1.0639e+05\n",
       "Df Residuals:       290578           LL-Null:          -1.0639e+05\n",
       "Converged:          1.0000           Scale:            1.0000     \n",
       "-------------------------------------------------------------------\n",
       "               Coef.   Std.Err.     z      P>|z|    [0.025   0.975]\n",
       "-------------------------------------------------------------------\n",
       "intercept     -2.0040    0.0364  -55.0077  0.0000  -2.0754  -1.9326\n",
       "ab_page       -0.0674    0.0520   -1.2967  0.1947  -0.1694   0.0345\n",
       "US             0.0175    0.0377    0.4652  0.6418  -0.0563   0.0914\n",
       "UK             0.0118    0.0398    0.2957  0.7674  -0.0663   0.0899\n",
       "ab_page_US     0.0469    0.0538    0.8718  0.3833  -0.0585   0.1523\n",
       "ab_page_UK     0.0783    0.0568    1.3783  0.1681  -0.0330   0.1896\n",
       "==================================================================\n",
       "\n",
       "\"\"\""
      ]
     },
     "execution_count": 47,
     "metadata": {},
     "output_type": "execute_result"
    }
   ],
   "source": [
    "# Fit your model, and summarize the results\n",
    "log_mod = sm.Logit(df_merged['converted'], df_merged[['intercept','ab_page','US','UK','ab_page_US','ab_page_UK']])\n",
    "results = log_mod.fit()\n",
    "results.summary2()"
   ]
  },
  {
   "cell_type": "markdown",
   "metadata": {},
   "source": [
    ">**We can't reject the null hypothesis, as all the values are above the 0.05 type I error rate.<br>\n",
    "Thus nothing of the factors that we analyzed was statistically related to the admission rate. <br>\n",
    "We will need further factors to analyze to get the relation to the admission rate**"
   ]
  },
  {
   "cell_type": "markdown",
   "metadata": {},
   "source": [
    "<a id='finalcheck'></a>\n",
    "## Final Check!\n",
    "\n",
    "Congratulations!  You have reached the end of the A/B Test Results project!  You should be very proud of all you have accomplished!\n",
    "\n",
    "> **Tip**: Once you are satisfied with your work here, check over your notebook to make sure that it satisfies all the specifications mentioned in the rubric. You should also probably remove all of the \"Hints\" and \"Tips\" like this one so that the presentation is as polished as possible.\n",
    "\n",
    "\n",
    "<a id='submission'></a>\n",
    "## Submission\n",
    "You may either submit your notebook through the \"SUBMIT PROJECT\" button at the bottom of this workspace, or you may work from your local machine and submit on  the last page of this project lesson.  \n",
    "\n",
    "1. Before you submit your project, you need to create a .html or .pdf version of this notebook in the workspace here. To do that, run the code cell below. If it worked correctly, you should get a return code of 0, and you should see the generated .html file in the workspace directory (click on the orange Jupyter icon in the upper left).\n",
    "\n",
    "\n",
    "2. Alternatively, you can download this report as .html via the **File** > **Download as** submenu, and then manually upload it into the workspace directory by clicking on the orange Jupyter icon in the upper left, then using the Upload button.\n",
    "\n",
    "\n",
    "3. Once you've done this, you can submit your project by clicking on the \"Submit Project\" button in the lower right here. This will create and submit a zip file with this .ipynb doc and the .html or .pdf version you created. Congratulations!"
   ]
  },
  {
   "cell_type": "code",
   "execution_count": 48,
   "metadata": {},
   "outputs": [
    {
     "data": {
      "text/plain": [
       "0"
      ]
     },
     "execution_count": 48,
     "metadata": {},
     "output_type": "execute_result"
    }
   ],
   "source": [
    "from subprocess import call\n",
    "call(['python', '-m', 'nbconvert', 'Analyze_ab_test_results_notebook.ipynb'])"
   ]
  }
 ],
 "metadata": {
  "kernelspec": {
   "display_name": "Python 3",
   "language": "python",
   "name": "python3"
  },
  "language_info": {
   "codemirror_mode": {
    "name": "ipython",
    "version": 3
   },
   "file_extension": ".py",
   "mimetype": "text/x-python",
   "name": "python",
   "nbconvert_exporter": "python",
   "pygments_lexer": "ipython3",
   "version": "3.6.3"
  }
 },
 "nbformat": 4,
 "nbformat_minor": 2
}
